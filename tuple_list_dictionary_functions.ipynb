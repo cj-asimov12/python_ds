{
 "cells": [
  {
   "cell_type": "code",
   "execution_count": null,
   "id": "3b098611",
   "metadata": {},
   "outputs": [],
   "source": [
    "'''\n",
    "1. Create 1st tuple with values -> (10,20,30), 2nd tuple with values -> (40,50,60).\n",
    "a. Concatenate the two tuples and store it in “t_combine”\n",
    "b. Repeat the elements of “t_combine” 3 times\n",
    "c. Access the 3rd element from “t_combine”\n",
    "d. Access the first three elements from “t_combine”\n",
    "e. Access the last three elements from “t_combine”\n",
    "'''"
   ]
  },
  {
   "cell_type": "code",
   "execution_count": 1,
   "id": "260ed2fc",
   "metadata": {},
   "outputs": [],
   "source": [
    "tup1 = (10,20,30)\n",
    "tup2 = (40,50,60)\n",
    "\n",
    "'''\n",
    "Concatenating tup1 and tup2\n",
    "'''\n",
    "t_combine = tup1 + tup2\n"
   ]
  },
  {
   "cell_type": "code",
   "execution_count": 2,
   "id": "04bfac97",
   "metadata": {},
   "outputs": [
    {
     "data": {
      "text/plain": [
       "(10, 20, 30, 40, 50, 60, 10, 20, 30, 40, 50, 60, 10, 20, 30, 40, 50, 60)"
      ]
     },
     "execution_count": 2,
     "metadata": {},
     "output_type": "execute_result"
    }
   ],
   "source": [
    "'''\n",
    "b. Repeat the elements of “t_combine” 3 times\n",
    "'''\n",
    "t_combine*3"
   ]
  },
  {
   "cell_type": "code",
   "execution_count": 4,
   "id": "09ae0d3a",
   "metadata": {},
   "outputs": [
    {
     "data": {
      "text/plain": [
       "30"
      ]
     },
     "execution_count": 4,
     "metadata": {},
     "output_type": "execute_result"
    }
   ],
   "source": [
    "'''\n",
    "c. Access the 3rd element from “t_combine”\n",
    "'''\n",
    "t_combine[2]"
   ]
  },
  {
   "cell_type": "code",
   "execution_count": 6,
   "id": "c81ed549",
   "metadata": {},
   "outputs": [
    {
     "data": {
      "text/plain": [
       "(10, 20, 30)"
      ]
     },
     "execution_count": 6,
     "metadata": {},
     "output_type": "execute_result"
    }
   ],
   "source": [
    "'''\n",
    "d. Access the first three elements from “t_combine”\n",
    "'''\n",
    "t_combine[0:3]"
   ]
  },
  {
   "cell_type": "code",
   "execution_count": 20,
   "id": "b644dcc2",
   "metadata": {},
   "outputs": [
    {
     "data": {
      "text/plain": [
       "(40, 50, 60)"
      ]
     },
     "execution_count": 20,
     "metadata": {},
     "output_type": "execute_result"
    }
   ],
   "source": [
    "'''\n",
    "e. Access the last three elements from “t_combine”\n",
    "'''\n",
    "t_combine[-3:]"
   ]
  },
  {
   "cell_type": "code",
   "execution_count": null,
   "id": "db8a4cdd",
   "metadata": {},
   "outputs": [],
   "source": [
    "'''\n",
    "2. Create a list ‘my_list’ with these elements:\n",
    "a. First element is a tuple with values 1,2,3\n",
    "b. Second element is a tuple with values “a”,”b”,”c”\n",
    "c. Third element is a tuple with values True,False\n",
    "'''"
   ]
  },
  {
   "cell_type": "code",
   "execution_count": 21,
   "id": "a8616a3a",
   "metadata": {},
   "outputs": [
    {
     "name": "stdout",
     "output_type": "stream",
     "text": [
      "[(1, 2, 3), ('a', 'b', 'c'), (True, False)]\n"
     ]
    }
   ],
   "source": [
    "my_list = [(1,2,3), (\"a\",\"b\", \"c\"), (True, False)]\n",
    "print(my_list)"
   ]
  },
  {
   "cell_type": "code",
   "execution_count": null,
   "id": "d3027e08",
   "metadata": {},
   "outputs": [],
   "source": [
    "'''\n",
    "3. Append a new tuple – (1,’a’,True) to ‘my_list’\n",
    "'''"
   ]
  },
  {
   "cell_type": "code",
   "execution_count": 24,
   "id": "75a03a5e",
   "metadata": {},
   "outputs": [
    {
     "name": "stdout",
     "output_type": "stream",
     "text": [
      "[(1, 2, 3), ('a', 'b', 'c'), (True, False), (1, 'a', True)]\n"
     ]
    }
   ],
   "source": [
    "my_list.append((1,\"a\",True))\n",
    "print(my_list)"
   ]
  },
  {
   "cell_type": "code",
   "execution_count": null,
   "id": "5b04804f",
   "metadata": {},
   "outputs": [],
   "source": [
    "'''\n",
    "a. Append a new list – *“sparta”,123+ to my_list\n",
    "'''"
   ]
  },
  {
   "cell_type": "code",
   "execution_count": 27,
   "id": "f50a3f0b",
   "metadata": {},
   "outputs": [
    {
     "name": "stdout",
     "output_type": "stream",
     "text": [
      "[(1, 2, 3), ('a', 'b', 'c'), (True, False), (1, 'a', True), ['sparta', 123]]\n"
     ]
    }
   ],
   "source": [
    "my_list.append([\"sparta\",123])\n",
    "print(my_list)"
   ]
  },
  {
   "cell_type": "code",
   "execution_count": 32,
   "id": "a3227aaf",
   "metadata": {},
   "outputs": [
    {
     "name": "stdout",
     "output_type": "stream",
     "text": [
      "{'Fruit': ('Apple', 'Banana', 'Mango', 'Guava'), 'Cost': (85, 54, 120, 70)}\n"
     ]
    }
   ],
   "source": [
    "'''\n",
    "4. Create a dictionary ‘fruit’ where:\n",
    "a. The first key is ‘Fruit’ and the values are (“Apple”,”Banana”,”Mango”,”Guava”)\n",
    "b. The second key is ‘Cost’ and the values are (85,54,120,70)\n",
    "'''\n",
    "fruit = {\"Fruit\": (\"Apple\",\"Banana\",\"Mango\",\"Guava\"), \"Cost\": (85,54,120,70)}\n",
    "print(fruit)"
   ]
  },
  {
   "cell_type": "code",
   "execution_count": 30,
   "id": "6e027636",
   "metadata": {},
   "outputs": [
    {
     "data": {
      "text/plain": [
       "dict_keys(['Fruit', 'Cost'])"
      ]
     },
     "execution_count": 30,
     "metadata": {},
     "output_type": "execute_result"
    }
   ],
   "source": [
    "'''\n",
    "c. Extract all the keys from ‘fruit’\n",
    "'''\n",
    "fruit.keys()"
   ]
  },
  {
   "cell_type": "code",
   "execution_count": 31,
   "id": "affdc6dd",
   "metadata": {},
   "outputs": [
    {
     "data": {
      "text/plain": [
       "dict_values([('Apple', 'Banana', 'Mango', 'Guava'), (85, 54, 120, 70)])"
      ]
     },
     "execution_count": 31,
     "metadata": {},
     "output_type": "execute_result"
    }
   ],
   "source": [
    "'''\n",
    "d. Extract all the values from ‘fruit’\n",
    "'''\n",
    "fruit.values()"
   ]
  },
  {
   "cell_type": "code",
   "execution_count": 33,
   "id": "5695ed85",
   "metadata": {},
   "outputs": [
    {
     "name": "stdout",
     "output_type": "stream",
     "text": [
      "{1, 'a'}\n"
     ]
    }
   ],
   "source": [
    "'''\n",
    "5. Create a set named ‘my_set’ with values (1,1,”a”,”a”,True,True) and print the result \n",
    "'''\n",
    "my_set = {1,1,\"a\",\"a\",True,True}\n",
    "print(my_set)"
   ]
  }
 ],
 "metadata": {
  "kernelspec": {
   "display_name": "Python 3 (ipykernel)",
   "language": "python",
   "name": "python3"
  },
  "language_info": {
   "codemirror_mode": {
    "name": "ipython",
    "version": 3
   },
   "file_extension": ".py",
   "mimetype": "text/x-python",
   "name": "python",
   "nbconvert_exporter": "python",
   "pygments_lexer": "ipython3",
   "version": "3.8.8"
  }
 },
 "nbformat": 4,
 "nbformat_minor": 5
}
