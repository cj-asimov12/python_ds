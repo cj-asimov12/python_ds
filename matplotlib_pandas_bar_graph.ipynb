{
 "cells": [
  {
   "cell_type": "code",
   "execution_count": null,
   "id": "cb1811e3",
   "metadata": {},
   "outputs": [],
   "source": [
    "\"\"\"\n",
    "1. Generate a bar plot graph for the columns ‘carbs’ and ‘gear’.\n",
    "a. Map the ‘carbs’ onto the x-axis.\n",
    "b. Map the ‘gear’ onto the y-axis.\n",
    "c. Provide the x-axis label as Number of carburetors.\n",
    "d. Provide the y-axis label as Number of forward gears.\n",
    "e. Set the title as carbs vs gear. \n",
    "\"\"\""
   ]
  },
  {
   "cell_type": "code",
   "execution_count": 1,
   "id": "d9b9bcb1",
   "metadata": {},
   "outputs": [],
   "source": [
    "import numpy as np\n",
    "import pandas as pd\n",
    "import matplotlib.pyplot as plt"
   ]
  },
  {
   "cell_type": "code",
   "execution_count": 2,
   "id": "dc97e717",
   "metadata": {},
   "outputs": [],
   "source": [
    "mtcars = pd.read_csv(\"C:\\\\Users\\\\black\\\\Desktop\\\\PyforDS\\\\datasets\\\\mtcars.csv\")"
   ]
  },
  {
   "cell_type": "code",
   "execution_count": 6,
   "id": "4497abb3",
   "metadata": {},
   "outputs": [
    {
     "data": {
      "image/png": "[encoded data removed]",
      "text/plain": [
       "<Figure size 432x288 with 1 Axes>"
      ]
     },
     "metadata": {
      "needs_background": "light"
     },
     "output_type": "display_data"
    }
   ],
   "source": [
    "labels = mtcars['carb']\n",
    "x_pos = np.arange(len(labels))\n",
    "data = mtcars['gear']\n",
    "\n",
    "plt.bar(x_pos, data)\n",
    "plt.xticks(x_pos, labels)\n",
    "\n",
    "plt.xlabel('Number of carburetors')\n",
    "plt.ylabel('Number of forward gears')\n",
    "plt.title('carbs V/s gears')\n",
    "\n",
    "plt.show()"
   ]
  }
 ],
 "metadata": {
  "kernelspec": {
   "display_name": "Python 3 (ipykernel)",
   "language": "python",
   "name": "python3"
  },
  "language_info": {
   "codemirror_mode": {
    "name": "ipython",
    "version": 3
   },
   "file_extension": ".py",
   "mimetype": "text/x-python",
   "name": "python",
   "nbconvert_exporter": "python",
   "pygments_lexer": "ipython3",
   "version": "3.8.8"
  }
 },
 "nbformat": 4,
 "nbformat_minor": 5
}
