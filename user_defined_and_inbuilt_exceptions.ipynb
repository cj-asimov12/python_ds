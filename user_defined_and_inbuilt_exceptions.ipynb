{
 "cells": [
  {
   "cell_type": "code",
   "execution_count": 6,
   "id": "ac1a5295",
   "metadata": {},
   "outputs": [
    {
     "name": "stdout",
     "output_type": "stream",
     "text": [
      "(<class 'ZeroDivisionError'>, ZeroDivisionError('division by zero'), <traceback object at 0x000001C2EB182FC0>)\n"
     ]
    }
   ],
   "source": [
    "'''\n",
    "1. With the help of try and inbuilt exception, display the exception.\n",
    "'''\n",
    "import sys\n",
    "try:\n",
    "    print(2/0)\n",
    "except:\n",
    "    print(sys.exc_info())"
   ]
  },
  {
   "cell_type": "code",
   "execution_count": 7,
   "id": "eac11522",
   "metadata": {},
   "outputs": [
    {
     "name": "stdout",
     "output_type": "stream",
     "text": [
      "Enter a number: 2\n",
      "Enter another number: 0\n",
      "(<class 'ZeroDivisionError'>, ZeroDivisionError('division by zero'), <traceback object at 0x000001C2EB1C7CC0>)\n"
     ]
    }
   ],
   "source": [
    "'''\n",
    "2. Take two user inputs and pass those input variables in a try block. If the user input is 0, then\n",
    "throw the ZeroDivisionError exception.\n",
    "'''\n",
    "\n",
    "a = int(input(\"Enter a number: \"))\n",
    "b = int(input(\"Enter another number: \"))\n",
    "\n",
    "try:\n",
    "    print(a/b)\n",
    "except:\n",
    "    print(sys.exc_info())\n"
   ]
  },
  {
   "cell_type": "code",
   "execution_count": 13,
   "id": "48ecf948",
   "metadata": {},
   "outputs": [
    {
     "ename": "OverflowError",
     "evalue": "math range error",
     "output_type": "error",
     "traceback": [
      "\u001b[1;31m---------------------------------------------------------------------------\u001b[0m",
      "\u001b[1;31mOverflowError\u001b[0m                             Traceback (most recent call last)",
      "\u001b[1;32m<ipython-input-13-1351e2c3dae6>\u001b[0m in \u001b[0;36m<module>\u001b[1;34m\u001b[0m\n\u001b[0;32m      5\u001b[0m \u001b[1;32mimport\u001b[0m \u001b[0mmath\u001b[0m\u001b[1;33m\u001b[0m\u001b[1;33m\u001b[0m\u001b[0m\n\u001b[0;32m      6\u001b[0m \u001b[1;33m\u001b[0m\u001b[0m\n\u001b[1;32m----> 7\u001b[1;33m \u001b[0manswer\u001b[0m \u001b[1;33m=\u001b[0m \u001b[0mmath\u001b[0m\u001b[1;33m.\u001b[0m\u001b[0mexp\u001b[0m\u001b[1;33m(\u001b[0m\u001b[1;36m50000\u001b[0m\u001b[1;33m)\u001b[0m\u001b[1;33m\u001b[0m\u001b[1;33m\u001b[0m\u001b[0m\n\u001b[0m\u001b[0;32m      8\u001b[0m \u001b[0mprint\u001b[0m\u001b[1;33m(\u001b[0m\u001b[0manswer\u001b[0m\u001b[1;33m)\u001b[0m\u001b[1;33m\u001b[0m\u001b[1;33m\u001b[0m\u001b[0m\n",
      "\u001b[1;31mOverflowError\u001b[0m: math range error"
     ]
    }
   ],
   "source": [
    "'''\n",
    "3. Import math package and with the help of math package, print – math.exp(50000). Now use\n",
    "the inbuilt OverflowError exception on the math.exp(), and print the exception.\n",
    "'''\n",
    "import math\n",
    "\n",
    "answer = math.exp(50000)\n",
    "print(answer)\n"
   ]
  },
  {
   "cell_type": "code",
   "execution_count": 21,
   "id": "950996ea",
   "metadata": {},
   "outputs": [
    {
     "name": "stdout",
     "output_type": "stream",
     "text": [
      "(put value in range) math range error\n"
     ]
    }
   ],
   "source": [
    "'''\n",
    "Now use the inbuilt OverflowError exception on the math.exp(), and print the exception.\n",
    "'''\n",
    "\n",
    "import math\n",
    "\n",
    "try:\n",
    "    answer = math.exp(50000)\n",
    "    print(answer)\n",
    "\n",
    "except OverflowError as oe:\n",
    "    print(\"(put value in range)\", oe)\n"
   ]
  },
  {
   "cell_type": "code",
   "execution_count": 36,
   "id": "70f27a17",
   "metadata": {},
   "outputs": [
    {
     "name": "stdout",
     "output_type": "stream",
     "text": [
      "\u001b[32mThis text is using termcolor package.\u001b[0m\n",
      "\u001b[5m\u001b[7m\u001b[33mNew color\u001b[0m\n"
     ]
    }
   ],
   "source": [
    "'''\n",
    "4. Now install the ‘termcolor’ package in the anaconda prompt, and import that package to\n",
    "provide the colors to the print statement in Jupyter Notebook.\n",
    "'''\n",
    "from termcolor import colored, cprint\n",
    "\n",
    "cprint(\"This text is using termcolor package.\", 'green')\n",
    "\n",
    "text = colored('New color', 'yellow', attrs=['reverse', 'blink'])\n",
    "print(text)\n"
   ]
  },
  {
   "cell_type": "code",
   "execution_count": 37,
   "id": "26a29ca9",
   "metadata": {},
   "outputs": [
    {
     "name": "stdout",
     "output_type": "stream",
     "text": [
      "Enter salary amount: 25000\n"
     ]
    },
    {
     "ename": "SalaryNotInRangeError",
     "evalue": "Salary is not in (5000, 15000) range",
     "output_type": "error",
     "traceback": [
      "\u001b[1;31m---------------------------------------------------------------------------\u001b[0m",
      "\u001b[1;31mSalaryNotInRangeError\u001b[0m                     Traceback (most recent call last)",
      "\u001b[1;32m<ipython-input-37-44409e4547d6>\u001b[0m in \u001b[0;36m<module>\u001b[1;34m\u001b[0m\n\u001b[0;32m     18\u001b[0m \u001b[0msalary\u001b[0m \u001b[1;33m=\u001b[0m \u001b[0mint\u001b[0m\u001b[1;33m(\u001b[0m\u001b[0minput\u001b[0m\u001b[1;33m(\u001b[0m\u001b[1;34m\"Enter salary amount: \"\u001b[0m\u001b[1;33m)\u001b[0m\u001b[1;33m)\u001b[0m\u001b[1;33m\u001b[0m\u001b[1;33m\u001b[0m\u001b[0m\n\u001b[0;32m     19\u001b[0m \u001b[1;32mif\u001b[0m \u001b[1;32mnot\u001b[0m \u001b[1;36m5000\u001b[0m \u001b[1;33m<\u001b[0m \u001b[0msalary\u001b[0m \u001b[1;33m<\u001b[0m \u001b[1;36m15000\u001b[0m\u001b[1;33m:\u001b[0m\u001b[1;33m\u001b[0m\u001b[1;33m\u001b[0m\u001b[0m\n\u001b[1;32m---> 20\u001b[1;33m     \u001b[1;32mraise\u001b[0m \u001b[0mSalaryNotInRangeError\u001b[0m\u001b[1;33m(\u001b[0m\u001b[0msalary\u001b[0m\u001b[1;33m)\u001b[0m\u001b[1;33m\u001b[0m\u001b[1;33m\u001b[0m\u001b[0m\n\u001b[0m",
      "\u001b[1;31mSalaryNotInRangeError\u001b[0m: Salary is not in (5000, 15000) range"
     ]
    }
   ],
   "source": [
    "'''\n",
    "5. Create your own exception with the help of class and functions.\n",
    "'''\n",
    "class SalaryNotInRangeError(Exception):\n",
    "    \"\"\"Exception raised for errors in the input salary.\n",
    "\n",
    "    Attributes:\n",
    "        salary -- input salary which caused the error\n",
    "        message -- explanation of the error\n",
    "    \"\"\"\n",
    "\n",
    "    def __init__(self, salary, message=\"Salary is not in (5000, 15000) range\"):\n",
    "        self.salary = salary\n",
    "        self.message = message\n",
    "        super().__init__(self.message)\n",
    "\n",
    "\n",
    "salary = int(input(\"Enter salary amount: \"))\n",
    "if not 5000 < salary < 15000:\n",
    "    raise SalaryNotInRangeError(salary)\n"
   ]
  }
 ],
 "metadata": {
  "kernelspec": {
   "display_name": "Python 3 (ipykernel)",
   "language": "python",
   "name": "python3"
  },
  "language_info": {
   "codemirror_mode": {
    "name": "ipython",
    "version": 3
   },
   "file_extension": ".py",
   "mimetype": "text/x-python",
   "name": "python",
   "nbconvert_exporter": "python",
   "pygments_lexer": "ipython3",
   "version": "3.8.8"
  }
 },
 "nbformat": 4,
 "nbformat_minor": 5
}
