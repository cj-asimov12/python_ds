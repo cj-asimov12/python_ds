{
 "cells": [
  {
   "cell_type": "code",
   "execution_count": 2,
   "id": "61e14457",
   "metadata": {},
   "outputs": [],
   "source": [
    "import numpy as np"
   ]
  },
  {
   "cell_type": "code",
   "execution_count": null,
   "id": "396aaca8",
   "metadata": {},
   "outputs": [],
   "source": [
    "\"\"\"\n",
    "1. Create a 3x3 matrix array with values ranging from 2 to 10.\n",
    "\"\"\""
   ]
  },
  {
   "cell_type": "code",
   "execution_count": 6,
   "id": "0768b6ca",
   "metadata": {},
   "outputs": [],
   "source": [
    "array_1 = np.array([[2,3,4],\n",
    "                  [5,6,7],\n",
    "                  [8,9,10]])"
   ]
  },
  {
   "cell_type": "code",
   "execution_count": 7,
   "id": "03834196",
   "metadata": {},
   "outputs": [
    {
     "data": {
      "text/plain": [
       "array([[ 2,  3,  4],\n",
       "       [ 5,  6,  7],\n",
       "       [ 8,  9, 10]])"
      ]
     },
     "execution_count": 7,
     "metadata": {},
     "output_type": "execute_result"
    }
   ],
   "source": [
    "array_1"
   ]
  },
  {
   "cell_type": "code",
   "execution_count": null,
   "id": "6eb43e5f",
   "metadata": {},
   "outputs": [],
   "source": [
    "\"\"\"\n",
    "2. Create a numpy array having user input values and convert the integer type to the float type\n",
    "of the elements of the array.\n",
    "\"\"\""
   ]
  },
  {
   "cell_type": "code",
   "execution_count": 22,
   "id": "4bdd3f54",
   "metadata": {
    "scrolled": true
   },
   "outputs": [
    {
     "name": "stdout",
     "output_type": "stream",
     "text": [
      "Size of array:3\n",
      "Element:1\n",
      "Element:2\n",
      "Element:3\n",
      "[1. 2. 3.]\n"
     ]
    }
   ],
   "source": [
    "my_array = []\n",
    "a = int(input(\"Size of array:\"))\n",
    "for i in range(a):\n",
    "    my_array.append(float(input(\"Element:\")))\n",
    "my_array = np.array(my_array)\n",
    "print(np.floor(my_array))"
   ]
  },
  {
   "cell_type": "code",
   "execution_count": null,
   "id": "977f9ec3",
   "metadata": {},
   "outputs": [],
   "source": [
    "\"\"\"\n",
    "3. Write a Numpy program to append values to the end of an array.\n",
    "\"\"\""
   ]
  },
  {
   "cell_type": "code",
   "execution_count": 23,
   "id": "50223919",
   "metadata": {},
   "outputs": [
    {
     "name": "stdout",
     "output_type": "stream",
     "text": [
      "Original Array :  [1 5 8 7 3 4]\n"
     ]
    }
   ],
   "source": [
    "array_2 = np.array([1,5,8,7,3,4])\n",
    "print(\"Original Array : \",array_2)"
   ]
  },
  {
   "cell_type": "code",
   "execution_count": 24,
   "id": "57367d02",
   "metadata": {},
   "outputs": [
    {
     "name": "stdout",
     "output_type": "stream",
     "text": [
      "Array after appending values at end :  [ 1  5  8  7  3  4 12 13 14]\n"
     ]
    }
   ],
   "source": [
    "array_2 = np.append(array_2, [12,13,14])\n",
    "print(\"Array after appending values at end : \",array_2)"
   ]
  },
  {
   "cell_type": "code",
   "execution_count": null,
   "id": "3d4cfc09",
   "metadata": {},
   "outputs": [],
   "source": [
    "\"\"\"\n",
    "4. Create two numpy arrays and add the elements of both the arrays and store the result in\n",
    "sumArray.\n",
    "\"\"\""
   ]
  },
  {
   "cell_type": "code",
   "execution_count": 26,
   "id": "801726a9",
   "metadata": {},
   "outputs": [
    {
     "data": {
      "text/plain": [
       "array([95, 92, 32])"
      ]
     },
     "execution_count": 26,
     "metadata": {},
     "output_type": "execute_result"
    }
   ],
   "source": [
    "array_3 = np.array([45,32,15])\n",
    "array_4 = np.array([50,60,17])\n",
    "\n",
    "sumArray = array_3 + array_4\n",
    "sumArray"
   ]
  },
  {
   "cell_type": "code",
   "execution_count": null,
   "id": "f187ceff",
   "metadata": {},
   "outputs": [],
   "source": [
    "\"\"\"\n",
    "5. Create a 3*3 array having values from 10-90(interval of 10) and store that in array1. Perform\n",
    "the following tasks:\n",
    "\"\"\""
   ]
  },
  {
   "cell_type": "code",
   "execution_count": 28,
   "id": "a2627748",
   "metadata": {},
   "outputs": [
    {
     "data": {
      "text/plain": [
       "array([[10, 20, 30],\n",
       "       [40, 50, 60],\n",
       "       [70, 80, 90]])"
      ]
     },
     "execution_count": 28,
     "metadata": {},
     "output_type": "execute_result"
    }
   ],
   "source": [
    "array1 = np.array([[10,20,30],\n",
    "            [40,50,60],\n",
    "            [70,80,90]])\n",
    "array1"
   ]
  },
  {
   "cell_type": "code",
   "execution_count": null,
   "id": "49408fac",
   "metadata": {},
   "outputs": [],
   "source": [
    "\"\"\"\n",
    "a. Extract the 1st row from the array.\n",
    "\"\"\""
   ]
  },
  {
   "cell_type": "code",
   "execution_count": 30,
   "id": "fc3b7f4f",
   "metadata": {},
   "outputs": [
    {
     "data": {
      "text/plain": [
       "array([[10, 20, 30]])"
      ]
     },
     "execution_count": 30,
     "metadata": {},
     "output_type": "execute_result"
    }
   ],
   "source": [
    "array1[:1]"
   ]
  },
  {
   "cell_type": "code",
   "execution_count": null,
   "id": "7181806a",
   "metadata": {},
   "outputs": [],
   "source": [
    "\"\"\"\n",
    "b. Extract the last element from the array.\n",
    "\"\"\""
   ]
  },
  {
   "cell_type": "code",
   "execution_count": 34,
   "id": "25a1de53",
   "metadata": {},
   "outputs": [
    {
     "data": {
      "text/plain": [
       "array([[90]])"
      ]
     },
     "execution_count": 34,
     "metadata": {},
     "output_type": "execute_result"
    }
   ],
   "source": [
    "array1[2:,2:]"
   ]
  }
 ],
 "metadata": {
  "kernelspec": {
   "display_name": "Python 3 (ipykernel)",
   "language": "python",
   "name": "python3"
  },
  "language_info": {
   "codemirror_mode": {
    "name": "ipython",
    "version": 3
   },
   "file_extension": ".py",
   "mimetype": "text/x-python",
   "name": "python",
   "nbconvert_exporter": "python",
   "pygments_lexer": "ipython3",
   "version": "3.8.8"
  }
 },
 "nbformat": 4,
 "nbformat_minor": 5
}
