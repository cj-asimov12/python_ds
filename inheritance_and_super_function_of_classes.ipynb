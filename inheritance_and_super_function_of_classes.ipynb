{
 "cells": [
  {
   "cell_type": "code",
   "execution_count": 4,
   "id": "beb8872a",
   "metadata": {},
   "outputs": [
    {
     "data": {
      "text/plain": [
       "''"
      ]
     },
     "execution_count": 4,
     "metadata": {},
     "output_type": "execute_result"
    }
   ],
   "source": [
    "\"\"\"\n",
    "1. Create a class named parent_Class and inside the class, initialize a global variable num as 10.\n",
    "a. Create another class named child_Class and this class should be inherited from the\n",
    "parent class.\n",
    "b. Now create an object for the child_Class and with the help of child_Class object, display\n",
    "the value of ‘num’.\n",
    "\"\"\""
   ]
  },
  {
   "cell_type": "code",
   "execution_count": 36,
   "id": "adf07e7d",
   "metadata": {},
   "outputs": [],
   "source": [
    "class parent_Class:\n",
    "    def __init__(self):\n",
    "        global num\n",
    "        num = 10\n",
    "    \n",
    "class child_Class(parent_Class):\n",
    "    def __init__(self, num):\n",
    "        self.num = num\n",
    "        \n",
    "    def display():\n",
    "        print(num)"
   ]
  },
  {
   "cell_type": "code",
   "execution_count": 38,
   "id": "887667cc",
   "metadata": {},
   "outputs": [
    {
     "name": "stdout",
     "output_type": "stream",
     "text": [
      "10\n"
     ]
    }
   ],
   "source": [
    "obj1 = child_Class.display()"
   ]
  },
  {
   "cell_type": "code",
   "execution_count": 159,
   "id": "8518b6e1",
   "metadata": {},
   "outputs": [],
   "source": [
    "name = \"John\"\n",
    "age = 50\n",
    "        \n",
    "class A:\n",
    "    def __init__(self):\n",
    "        global name\n",
    "        global age\n",
    "        \n",
    "    def details():\n",
    "        return name \n",
    "    \n",
    "class B:\n",
    "    def __init__(self):\n",
    "        global name\n",
    "        global _id\n",
    "        \n",
    "    def details():\n",
    "        return name\n",
    "    \n",
    "class C(A,B):\n",
    "    def __init__(self):\n",
    "        A.__init__()\n",
    "        \n",
    "    def get_details():\n",
    "        return name\n",
    "        \n",
    "        "
   ]
  },
  {
   "cell_type": "code",
   "execution_count": 164,
   "id": "8c67b0f3",
   "metadata": {
    "scrolled": true
   },
   "outputs": [
    {
     "name": "stdout",
     "output_type": "stream",
     "text": [
      "John\n"
     ]
    }
   ],
   "source": [
    "obj = C.get_details()\n",
    "print(obj)"
   ]
  },
  {
   "cell_type": "code",
   "execution_count": null,
   "id": "fd206e9e",
   "metadata": {},
   "outputs": [],
   "source": [
    "\"\"\"\n",
    "3. Create a class named ‘Sub1’, inside the class, generate a user defined function named ‘first’\n",
    "and inside the function, pass the following statement in the print()- ‘This is the first function\n",
    "from Sub 1 class’.\n",
    "a. Now create another class named ‘Sub2’, and inside the class, create a function\n",
    "named ‘second’, and pass the following message in the print()- ‘This is the\n",
    "second function from the Sub 2 class’.\n",
    "b. After that, create another class named ‘Super’ and inside that class, create a\n",
    "method named ‘final’, and pass the below message in the print()- ‘This is the\n",
    "final method from the super class’.\n",
    "c. Now, create an object for the Super class and call all the 3 user defined\n",
    "methods, i.e., first(), second(), and final().\n",
    "\n",
    "\"\"\""
   ]
  },
  {
   "cell_type": "code",
   "execution_count": 181,
   "id": "67909f79",
   "metadata": {},
   "outputs": [],
   "source": [
    "class Sub1:\n",
    "    def first(self):\n",
    "        print(\"This is the first function from the Sub 1 class.\")\n",
    "\n",
    "class Sub2:\n",
    "    def second(self):\n",
    "        print(\"This is the second function from the Sub2 class.\")\n",
    "    \n",
    "class Super(Sub1,Sub2):\n",
    "    \n",
    "    def first(self):\n",
    "        super().first()\n",
    "    \n",
    "    def second(self):\n",
    "        super().second()\n",
    "    \n",
    "    def final(self):\n",
    "        print(\"This is the final method from the super class.\")\n",
    "    \n",
    "    \n",
    "        "
   ]
  },
  {
   "cell_type": "code",
   "execution_count": 182,
   "id": "ca18ed5d",
   "metadata": {},
   "outputs": [
    {
     "name": "stdout",
     "output_type": "stream",
     "text": [
      "This is the first function from the Sub 1 class.\n",
      "This is the second function from the Sub2 class.\n",
      "This is the final method from the super class.\n"
     ]
    }
   ],
   "source": [
    "Super().first()\n",
    "Super().second()\n",
    "Super().final()"
   ]
  },
  {
   "cell_type": "code",
   "execution_count": null,
   "id": "b733ffa1",
   "metadata": {},
   "outputs": [],
   "source": [
    "\"\"\"\n",
    "4. Create a class named ‘Parent’, and inside the class, create a function named ‘fun1’ and pass\n",
    "the following message in the print()- ‘This is the message from the fun1’.\n",
    "a. Now create a class named ‘Child1’ and inside the class, create a method named ‘fun2’\n",
    "and pass the following message in the print()- ‘This is the message from the fun2’.\n",
    "b. After that, create another class named ‘Child2’ and inside the class, create a method\n",
    "named ‘fun3’ and pass the following message in the print()- ‘This is the message from\n",
    "the fun3’.\n",
    "c. Now, create an object of Child2 class and with the help of the object, call the ‘fun1’\n",
    "method from the ‘Parent’ class.\n",
    "\"\"\""
   ]
  },
  {
   "cell_type": "code",
   "execution_count": 190,
   "id": "ad65a6da",
   "metadata": {},
   "outputs": [],
   "source": [
    "class Parent:\n",
    "    def fun1(self):\n",
    "        print(\"This is the message from fun1.\")\n",
    "        \n",
    "class Child1:\n",
    "    def fun2(self):\n",
    "        print(\"This is the message from fun2.\")\n",
    "        \n",
    "class Child2(Parent,Child1):\n",
    "\n",
    "    def fun1(self):\n",
    "        super().fun1()\n",
    "    \n",
    "    def fun3(self):\n",
    "        print(\"This is the message from fun3.\")\n"
   ]
  },
  {
   "cell_type": "code",
   "execution_count": 191,
   "id": "3a6a8597",
   "metadata": {},
   "outputs": [
    {
     "name": "stdout",
     "output_type": "stream",
     "text": [
      "This is the message from fun1.\n",
      "This is the message from fun3.\n"
     ]
    }
   ],
   "source": [
    "Child2().fun1()\n",
    "Child2().fun3()"
   ]
  },
  {
   "cell_type": "code",
   "execution_count": null,
   "id": "6b630db9",
   "metadata": {},
   "outputs": [],
   "source": [
    "\"\"\"\n",
    "5. Create a class named ‘Parent’, and inside the class, create a function named ‘fun1’ and pass\n",
    "the following message in the print()- ‘This is the message from the fun1’.\n",
    "a. Now create a class named ‘Child’ and inside the class, create a method named ‘fun2’ and\n",
    "pass the following message in the print()- ‘This is the message from the fun2’.\n",
    "b. After that, create another class named ‘Hybrid’ and inside the class, create a method\n",
    "named ‘fun3’ and pass the following message in the print()- ‘This is the message from\n",
    "the fun3’.\n",
    "c. Now, create an object of Hybrid class and with the help of the object, call the ‘fun1’,\n",
    "‘fun2’, and ‘fun3’ methods.\n",
    "\"\"\""
   ]
  },
  {
   "cell_type": "code",
   "execution_count": 186,
   "id": "fad24411",
   "metadata": {},
   "outputs": [],
   "source": [
    "class Parent:\n",
    "    def fun1(self):\n",
    "        print(\"This is the message from the fun1.\")\n",
    "    \n",
    "class Child:\n",
    "    def fun2(self):\n",
    "        print(\"This is the message from the fun2.\")\n",
    "    \n",
    "class Hybrid(Parent,Child):\n",
    "\n",
    "    def fun1(self):\n",
    "        super().fun1()\n",
    "    \n",
    "    def fun2(self):\n",
    "        super().fun2()\n",
    "      \n",
    "    def fun3(self):\n",
    "        print(\"This is the message from the fun3.\")"
   ]
  },
  {
   "cell_type": "code",
   "execution_count": 187,
   "id": "099a8788",
   "metadata": {},
   "outputs": [
    {
     "name": "stdout",
     "output_type": "stream",
     "text": [
      "This is the message from the fun1.\n",
      "This is the message from the fun2.\n",
      "This is the message from the fun3.\n"
     ]
    }
   ],
   "source": [
    "Hybrid().fun1()\n",
    "Hybrid().fun2()\n",
    "Hybrid().fun3()"
   ]
  }
 ],
 "metadata": {
  "kernelspec": {
   "display_name": "Python 3 (ipykernel)",
   "language": "python",
   "name": "python3"
  },
  "language_info": {
   "codemirror_mode": {
    "name": "ipython",
    "version": 3
   },
   "file_extension": ".py",
   "mimetype": "text/x-python",
   "name": "python",
   "nbconvert_exporter": "python",
   "pygments_lexer": "ipython3",
   "version": "3.8.8"
  }
 },
 "nbformat": 4,
 "nbformat_minor": 5
}
