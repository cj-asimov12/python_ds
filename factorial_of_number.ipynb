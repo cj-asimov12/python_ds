{
 "cells": [
  {
   "cell_type": "code",
   "execution_count": null,
   "id": "743bb2ed",
   "metadata": {},
   "outputs": [],
   "source": [
    "'''\n",
    "1. Create a function named ‘factor’ that can only accepts 1 argument. The function should\n",
    "return the factorial of that number.\n",
    "'''"
   ]
  },
  {
   "cell_type": "code",
   "execution_count": 5,
   "id": "14f96103",
   "metadata": {},
   "outputs": [
    {
     "name": "stdout",
     "output_type": "stream",
     "text": [
      "Enter a number: 20\n",
      "The factorial of 20 is: 2432902008176640000\n"
     ]
    }
   ],
   "source": [
    "def Factorial(Num):\n",
    "    fact = 1\n",
    "    for i in range(1, Num+1):\n",
    "        fact = fact * i\n",
    "\n",
    "    print(\"The factorial of\",Num,\"is: \",end=\"\")\n",
    "    print(fact)\n",
    "\n",
    "Num = int(input(\"Enter a number: \"))   \n",
    "Factorial()"
   ]
  }
 ],
 "metadata": {
  "kernelspec": {
   "display_name": "Python 3 (ipykernel)",
   "language": "python",
   "name": "python3"
  },
  "language_info": {
   "codemirror_mode": {
    "name": "ipython",
    "version": 3
   },
   "file_extension": ".py",
   "mimetype": "text/x-python",
   "name": "python",
   "nbconvert_exporter": "python",
   "pygments_lexer": "ipython3",
   "version": "3.8.8"
  }
 },
 "nbformat": 4,
 "nbformat_minor": 5
}
