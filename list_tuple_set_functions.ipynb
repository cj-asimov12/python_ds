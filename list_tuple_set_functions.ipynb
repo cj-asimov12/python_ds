{
 "cells": [
  {
   "cell_type": "code",
   "execution_count": null,
   "id": "b5fe7e5b",
   "metadata": {},
   "outputs": [],
   "source": [
    "\"\"\"\n",
    "1. Create a list named ‘myList’ that is having the following elements: 10,20,30,’apple’, True,\n",
    "8.10.\n",
    "\n",
    "a. Now in the ‘myList’, append these values: 30,40\n",
    "\n",
    "b. After that reverse the elements of the ‘myList’ and store that in ‘reversedList’\n",
    "\"\"\""
   ]
  },
  {
   "cell_type": "code",
   "execution_count": 38,
   "id": "6c8ca7f5",
   "metadata": {},
   "outputs": [
    {
     "name": "stdout",
     "output_type": "stream",
     "text": [
      "Original_list =  [10, 20, 30, 'apple', True, 8.1]\n"
     ]
    }
   ],
   "source": [
    "myList = [10,20,30,\"apple\",True,8.10]\n",
    "print(\"Original_list = \",myList)"
   ]
  },
  {
   "cell_type": "code",
   "execution_count": 39,
   "id": "bb1b22f3",
   "metadata": {},
   "outputs": [
    {
     "name": "stdout",
     "output_type": "stream",
     "text": [
      "Updated_list = [10, 20, 30, 'apple', True, 8.1, 30, 40]\n"
     ]
    }
   ],
   "source": [
    "myList.append(30)\n",
    "myList.append(40)\n",
    "print(\"Updated_list =\",myList)"
   ]
  },
  {
   "cell_type": "code",
   "execution_count": 40,
   "id": "3b61f59f",
   "metadata": {},
   "outputs": [
    {
     "name": "stdout",
     "output_type": "stream",
     "text": [
      "Reversed_list =  [40, 30, 8.1, True, 'apple', 30, 20, 10]\n"
     ]
    }
   ],
   "source": [
    "def rev_list(myList):\n",
    "    myList.reverse()\n",
    "    return myList\n",
    "\n",
    "reversedList = rev_list(myList)\n",
    "print(\"Reversed_list = \",reversedList)"
   ]
  },
  {
   "cell_type": "code",
   "execution_count": null,
   "id": "609ba831",
   "metadata": {},
   "outputs": [],
   "source": [
    "\"\"\"\n",
    "2. Create a dictonary with key values as 1,2,3 and the values as ‘data’,’information’, and ‘text’.\n",
    "\n",
    "a. After that eliminate the ‘text’ value form the dictonary.\n",
    "\n",
    "b. Add ‘features’ in the dictonary.\n",
    "\n",
    "c. Fetch the ‘data’ element from the dictonary and display it in the output.\n",
    "\"\"\""
   ]
  },
  {
   "cell_type": "code",
   "execution_count": 41,
   "id": "d568d706",
   "metadata": {},
   "outputs": [],
   "source": [
    "dict1 = {1:\"data\", 2:\"information\", 3:\"text\"}"
   ]
  },
  {
   "cell_type": "code",
   "execution_count": 42,
   "id": "70a104c4",
   "metadata": {},
   "outputs": [
    {
     "data": {
      "text/plain": [
       "{1: 'data', 2: 'information'}"
      ]
     },
     "execution_count": 42,
     "metadata": {},
     "output_type": "execute_result"
    }
   ],
   "source": [
    "dict1.pop(3)\n",
    "dict1"
   ]
  },
  {
   "cell_type": "code",
   "execution_count": 44,
   "id": "5ec0eccc",
   "metadata": {},
   "outputs": [
    {
     "data": {
      "text/plain": [
       "{1: 'data', 2: 'information', 3: 'features'}"
      ]
     },
     "execution_count": 44,
     "metadata": {},
     "output_type": "execute_result"
    }
   ],
   "source": [
    "dict1[3] = \"features\"\n",
    "dict1"
   ]
  },
  {
   "cell_type": "code",
   "execution_count": 45,
   "id": "a722e493",
   "metadata": {
    "scrolled": true
   },
   "outputs": [
    {
     "data": {
      "text/plain": [
       "'data'"
      ]
     },
     "execution_count": 45,
     "metadata": {},
     "output_type": "execute_result"
    }
   ],
   "source": [
    "dict1[1]"
   ]
  },
  {
   "cell_type": "code",
   "execution_count": null,
   "id": "0cd130a4",
   "metadata": {},
   "outputs": [],
   "source": [
    "\"\"\"\n",
    "3. Create a tuple and add these elements 1,2,3,apple,mango in ‘my_tuple\n",
    "\n",
    "4. Create another tuple named numeric_tuple consisting of only integer values 10,20,30,40,50\n",
    "\n",
    "a. Find the minimum value from the numeric_tuple.\n",
    "\n",
    "b. Concatenate my_tuple with numeric_tuple and store the result in r1.\n",
    "\n",
    "c. Duplicate the tuple named my_tuple 2 times and store that in ‘newdupli’.\n",
    "\"\"\""
   ]
  },
  {
   "cell_type": "code",
   "execution_count": 49,
   "id": "f8be466b",
   "metadata": {},
   "outputs": [
    {
     "data": {
      "text/plain": [
       "(1, 2, 3, 'apple', 'mango')"
      ]
     },
     "execution_count": 49,
     "metadata": {},
     "output_type": "execute_result"
    }
   ],
   "source": [
    "my_tuple = (1,2,3,\"apple\",\"mango\")\n",
    "my_tuple"
   ]
  },
  {
   "cell_type": "code",
   "execution_count": 50,
   "id": "1687c7c5",
   "metadata": {},
   "outputs": [
    {
     "data": {
      "text/plain": [
       "(10, 20, 30, 40, 50)"
      ]
     },
     "execution_count": 50,
     "metadata": {},
     "output_type": "execute_result"
    }
   ],
   "source": [
    "numeric_tuple = (10,20,30,40,50)\n",
    "numeric_tuple"
   ]
  },
  {
   "cell_type": "code",
   "execution_count": 51,
   "id": "63ed2567",
   "metadata": {},
   "outputs": [
    {
     "data": {
      "text/plain": [
       "(1, 2, 3, 'apple', 'mango', 10, 20, 30, 40, 50)"
      ]
     },
     "execution_count": 51,
     "metadata": {},
     "output_type": "execute_result"
    }
   ],
   "source": [
    "r1 = my_tuple + numeric_tuple\n",
    "r1"
   ]
  },
  {
   "cell_type": "code",
   "execution_count": 54,
   "id": "16b10b48",
   "metadata": {
    "scrolled": false
   },
   "outputs": [
    {
     "data": {
      "text/plain": [
       "(1,\n",
       " 2,\n",
       " 3,\n",
       " 'apple',\n",
       " 'mango',\n",
       " 10,\n",
       " 20,\n",
       " 30,\n",
       " 40,\n",
       " 50,\n",
       " 1,\n",
       " 2,\n",
       " 3,\n",
       " 'apple',\n",
       " 'mango',\n",
       " 10,\n",
       " 20,\n",
       " 30,\n",
       " 40,\n",
       " 50)"
      ]
     },
     "execution_count": 54,
     "metadata": {},
     "output_type": "execute_result"
    }
   ],
   "source": [
    "newdupli = (r1*2)\n",
    "newdupli"
   ]
  },
  {
   "cell_type": "code",
   "execution_count": null,
   "id": "20d8bed6",
   "metadata": {},
   "outputs": [],
   "source": [
    "\"\"\"\n",
    "5. Create 2 sets with name set1 and set2, where set1 contains{1,2,3,4,5} and set2 to\n",
    "contains{2,3,7,6,1}\n",
    "\n",
    "a. Perform the below operation:\n",
    "\n",
    "a. set1 union set2\n",
    "\n",
    "b. set1 intersection set2\n",
    "\n",
    "c. set1 difference set2\n",
    "\"\"\""
   ]
  },
  {
   "cell_type": "code",
   "execution_count": 55,
   "id": "e5db166f",
   "metadata": {},
   "outputs": [],
   "source": [
    "set1 = {1,2,3,4,5}\n",
    "set2 = {2,3,7,6,1}"
   ]
  },
  {
   "cell_type": "code",
   "execution_count": 56,
   "id": "eae1bb69",
   "metadata": {},
   "outputs": [
    {
     "data": {
      "text/plain": [
       "{1, 2, 3, 4, 5, 6, 7}"
      ]
     },
     "execution_count": 56,
     "metadata": {},
     "output_type": "execute_result"
    }
   ],
   "source": [
    "set1.union(set2) "
   ]
  },
  {
   "cell_type": "code",
   "execution_count": 57,
   "id": "50c592dc",
   "metadata": {},
   "outputs": [
    {
     "data": {
      "text/plain": [
       "{1, 2, 3}"
      ]
     },
     "execution_count": 57,
     "metadata": {},
     "output_type": "execute_result"
    }
   ],
   "source": [
    "set1.intersection(set2)"
   ]
  },
  {
   "cell_type": "code",
   "execution_count": 58,
   "id": "d73ca9f8",
   "metadata": {},
   "outputs": [
    {
     "data": {
      "text/plain": [
       "{4, 5}"
      ]
     },
     "execution_count": 58,
     "metadata": {},
     "output_type": "execute_result"
    }
   ],
   "source": [
    "set1.difference(set2)"
   ]
  }
 ],
 "metadata": {
  "kernelspec": {
   "display_name": "Python 3 (ipykernel)",
   "language": "python",
   "name": "python3"
  },
  "language_info": {
   "codemirror_mode": {
    "name": "ipython",
    "version": 3
   },
   "file_extension": ".py",
   "mimetype": "text/x-python",
   "name": "python",
   "nbconvert_exporter": "python",
   "pygments_lexer": "ipython3",
   "version": "3.8.8"
  }
 },
 "nbformat": 4,
 "nbformat_minor": 5
}
