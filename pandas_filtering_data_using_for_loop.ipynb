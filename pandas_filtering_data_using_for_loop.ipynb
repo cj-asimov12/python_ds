{
 "cells": [
  {
   "cell_type": "code",
   "execution_count": 33,
   "id": "db622db4",
   "metadata": {},
   "outputs": [],
   "source": [
    "import pandas as pd"
   ]
  },
  {
   "cell_type": "code",
   "execution_count": 34,
   "id": "f9c25b3b",
   "metadata": {},
   "outputs": [],
   "source": [
    "churn = pd.read_csv(\"C:\\\\Users\\\\black\\\\Desktop\\\\PyforDS\\\\datasets\\\\customer_churn.csv\")"
   ]
  },
  {
   "cell_type": "code",
   "execution_count": null,
   "id": "128eacfd",
   "metadata": {},
   "outputs": [],
   "source": [
    "\"\"\"\n",
    "1. Use a for loop to calculate the number of customers that are getting the tech support and\n",
    "are male senior citizen.\n",
    "\"\"\""
   ]
  },
  {
   "cell_type": "code",
   "execution_count": 53,
   "id": "e13c3ec6",
   "metadata": {},
   "outputs": [
    {
     "name": "stdout",
     "output_type": "stream",
     "text": [
      "119\n"
     ]
    }
   ],
   "source": [
    "count = 0\n",
    "for i in range(len(churn)):\n",
    "    if churn.loc[i][churn.columns.get_loc(\"TechSupport\")] == \"Yes\" and churn.loc[i][churn.columns.get_loc(\"gender\")] == \"Male\" and churn.loc[i][churn.columns.get_loc(\"SeniorCitizen\")] == 1:\n",
    "        count = count + 1\n",
    "print(count)"
   ]
  }
 ],
 "metadata": {
  "kernelspec": {
   "display_name": "Python 3 (ipykernel)",
   "language": "python",
   "name": "python3"
  },
  "language_info": {
   "codemirror_mode": {
    "name": "ipython",
    "version": 3
   },
   "file_extension": ".py",
   "mimetype": "text/x-python",
   "name": "python",
   "nbconvert_exporter": "python",
   "pygments_lexer": "ipython3",
   "version": "3.8.8"
  }
 },
 "nbformat": 4,
 "nbformat_minor": 5
}
