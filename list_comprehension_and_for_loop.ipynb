{
 "cells": [
  {
   "cell_type": "code",
   "execution_count": null,
   "id": "062cd826",
   "metadata": {},
   "outputs": [],
   "source": [
    "'''\n",
    "1. Create a list containing squares of numbers from 1 to 10 (HINT: use List Comprehension).\n",
    "'''"
   ]
  },
  {
   "cell_type": "code",
   "execution_count": 7,
   "id": "1878ec25",
   "metadata": {},
   "outputs": [
    {
     "name": "stdout",
     "output_type": "stream",
     "text": [
      "[1, 4, 9, 16, 25, 36, 49, 64, 81, 100]\n"
     ]
    }
   ],
   "source": [
    "sqno = [i**2 for i in range(1,11)]\n",
    "\n",
    "print(sqno)    "
   ]
  },
  {
   "cell_type": "code",
   "execution_count": null,
   "id": "61a66e72",
   "metadata": {},
   "outputs": [],
   "source": [
    "'''\n",
    "2. Write a Function to check if year number is a leap year.\n",
    "'''"
   ]
  },
  {
   "cell_type": "code",
   "execution_count": 19,
   "id": "6ca4f04a",
   "metadata": {},
   "outputs": [
    {
     "name": "stdout",
     "output_type": "stream",
     "text": [
      "Enter a Year: 2020\n",
      "2020 is a leap Year.\n"
     ]
    }
   ],
   "source": [
    "def CheckLeap(Year):\n",
    "    if (Year % 400 == 0) or (Year % 100 != 0) and (Year % 4 == 0):\n",
    "        print(Year, \"is a leap Year.\");\n",
    "    else:\n",
    "        print(Year, \"is not a leap Year.\")\n",
    "\n",
    "Year = int(input(\"Enter a Year: \"))\n",
    "\n",
    "CheckLeap(Year)"
   ]
  },
  {
   "cell_type": "code",
   "execution_count": null,
   "id": "c9de1c94",
   "metadata": {},
   "outputs": [],
   "source": [
    "'''\n",
    "3. Write a Function to take an array and return another array that contains the members of first\n",
    "array that are even.\n",
    "'''"
   ]
  },
  {
   "cell_type": "code",
   "execution_count": 26,
   "id": "b503a462",
   "metadata": {},
   "outputs": [
    {
     "name": "stdout",
     "output_type": "stream",
     "text": [
      "Enter a number: 2\n",
      "Enter a number: 3\n",
      "Enter a number: 4\n"
     ]
    },
    {
     "data": {
      "text/plain": [
       "[2, 4]"
      ]
     },
     "execution_count": 26,
     "metadata": {},
     "output_type": "execute_result"
    }
   ],
   "source": [
    "def EvenArray(a):\n",
    "    b = [i for i in a if i % 2 == 0]\n",
    "    return b\n",
    "\n",
    "a = [int(input(\"Enter a number: \")),\n",
    "         int(input(\"Enter a number: \")),\n",
    "             int(input(\"Enter a number: \"))]\n",
    "\n",
    "EvenArray(a)"
   ]
  },
  {
   "cell_type": "code",
   "execution_count": null,
   "id": "da7bfa79",
   "metadata": {},
   "outputs": [],
   "source": [
    "'''\n",
    "4. Write a Function that takes 2 arrays and prints the members of first array that are present of\n",
    "second array. (HINT: use Membership Comprehension)\n",
    "'''"
   ]
  },
  {
   "cell_type": "code",
   "execution_count": 28,
   "id": "721b2621",
   "metadata": {},
   "outputs": [
    {
     "data": {
      "text/plain": [
       "[2, 3]"
      ]
     },
     "execution_count": 28,
     "metadata": {},
     "output_type": "execute_result"
    }
   ],
   "source": [
    "def MatchArray(a,b):\n",
    "    c = [i for i in a if i in b]\n",
    "    return c\n",
    "\n",
    "a = [1,2,3]\n",
    "b = [2,3,4,5,6]\n",
    "\n",
    "MatchArray(a,b)\n",
    "    \n",
    "    "
   ]
  }
 ],
 "metadata": {
  "kernelspec": {
   "display_name": "Python 3 (ipykernel)",
   "language": "python",
   "name": "python3"
  },
  "language_info": {
   "codemirror_mode": {
    "name": "ipython",
    "version": 3
   },
   "file_extension": ".py",
   "mimetype": "text/x-python",
   "name": "python",
   "nbconvert_exporter": "python",
   "pygments_lexer": "ipython3",
   "version": "3.8.8"
  }
 },
 "nbformat": 4,
 "nbformat_minor": 5
}
