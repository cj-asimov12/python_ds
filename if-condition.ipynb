{
 "cells": [
  {
   "cell_type": "code",
   "execution_count": null,
   "id": "5a3b8fcb",
   "metadata": {},
   "outputs": [],
   "source": [
    "\"\"\"\n",
    "1. Input the values of a and b as 10 and 20 respectively. Now check if a is greater or b is greater\n",
    "using if condition. Think about all the edge cases, and print the statements accordingly.\n",
    "\"\"\""
   ]
  },
  {
   "cell_type": "code",
   "execution_count": 1,
   "id": "93ce5318",
   "metadata": {},
   "outputs": [],
   "source": [
    "a = 10\n",
    "b = 20"
   ]
  },
  {
   "cell_type": "code",
   "execution_count": 3,
   "id": "02398242",
   "metadata": {},
   "outputs": [
    {
     "name": "stdout",
     "output_type": "stream",
     "text": [
      "b is greater than a.\n"
     ]
    }
   ],
   "source": [
    "if a > b or b < a:\n",
    "    print(\"a is greater than b.\")\n",
    "\n",
    "elif b > a or a < b:\n",
    "    print(\"b is greater than a.\")\n",
    "    \n",
    "else:\n",
    "    print(\"Both a and b are equal to eachother.\")"
   ]
  }
 ],
 "metadata": {
  "kernelspec": {
   "display_name": "Python 3 (ipykernel)",
   "language": "python",
   "name": "python3"
  },
  "language_info": {
   "codemirror_mode": {
    "name": "ipython",
    "version": 3
   },
   "file_extension": ".py",
   "mimetype": "text/x-python",
   "name": "python",
   "nbconvert_exporter": "python",
   "pygments_lexer": "ipython3",
   "version": "3.8.8"
  }
 },
 "nbformat": 4,
 "nbformat_minor": 5
}
