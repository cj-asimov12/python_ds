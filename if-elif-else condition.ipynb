{
 "cells": [
  {
   "cell_type": "code",
   "execution_count": null,
   "id": "1bf3a011",
   "metadata": {},
   "outputs": [],
   "source": [
    "\"\"\"\n",
    "1. Take three user inputs and print the greatest number from those inputs using if-else\n",
    "condition. Edge cases if any, should also be handled\n",
    "\"\"\""
   ]
  },
  {
   "cell_type": "code",
   "execution_count": 9,
   "id": "ac5ec0f9",
   "metadata": {},
   "outputs": [
    {
     "name": "stdout",
     "output_type": "stream",
     "text": [
      "Enter first number: 25\n",
      "Enter second number: 25\n",
      "Enter third number: 10\n",
      "Both first and second numbers are greatest.\n"
     ]
    }
   ],
   "source": [
    "a = int(input(\"Enter first number: \"))\n",
    "b = int(input(\"Enter second number: \"))\n",
    "c = int(input(\"Enter third number: \"))\n",
    "\n",
    "if a > b and a > c:\n",
    "    print(a, \"is the greatest.\")\n",
    "\n",
    "elif b > a and b > c:\n",
    "    print(b, \"is the greatest.\")\n",
    "    \n",
    "elif c > a and c > b:\n",
    "    print(c, \"is the greatest.\")\n",
    "\n",
    "elif a == b and a > c:\n",
    "    print(\"Both first and second numbers are greatest.\")\n",
    "\n",
    "elif b == c and b > a:\n",
    "    print(\"Both second and third numbers are greatest.\")\n",
    "    \n",
    "elif a == b and a == c:\n",
    "    print(\"All the numbers are equal.\")    \n",
    "\n",
    "else:\n",
    "    print(\"Cannot determine.\")"
   ]
  }
 ],
 "metadata": {
  "kernelspec": {
   "display_name": "Python 3 (ipykernel)",
   "language": "python",
   "name": "python3"
  },
  "language_info": {
   "codemirror_mode": {
    "name": "ipython",
    "version": 3
   },
   "file_extension": ".py",
   "mimetype": "text/x-python",
   "name": "python",
   "nbconvert_exporter": "python",
   "pygments_lexer": "ipython3",
   "version": "3.8.8"
  }
 },
 "nbformat": 4,
 "nbformat_minor": 5
}
