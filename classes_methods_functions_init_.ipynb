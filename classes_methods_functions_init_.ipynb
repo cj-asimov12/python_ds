{
 "cells": [
  {
   "cell_type": "code",
   "execution_count": null,
   "id": "b945ac07",
   "metadata": {},
   "outputs": [],
   "source": [
    "\"\"\"\n",
    "1. Create a class names Employee, with a constructor ‘__init__’ method that accepts name and\n",
    "salary as parameters and set properties named name and salary.\n",
    "\n",
    "2. Define __str__ method in Employee class so that when someone tries to print the object the\n",
    "string Name: employee_name, Salary: employee_salary is printed with the actual employee\n",
    "name and salary.\n",
    "\"\"\""
   ]
  },
  {
   "cell_type": "code",
   "execution_count": 21,
   "id": "cda1bd76",
   "metadata": {
    "scrolled": true
   },
   "outputs": [
    {
     "name": "stdout",
     "output_type": "stream",
     "text": [
      "Employee(Name:John,Salary:25000)\n"
     ]
    }
   ],
   "source": [
    "class Employee:\n",
    "    def __init__(self,name,salary):\n",
    "        self.name = name\n",
    "        self.salary = salary\n",
    "        \n",
    "    def __str__(self):\n",
    "        return 'Employee(Name:' + str(self.name) + ',Salary:' + str(self.salary) + ')'\n",
    "\n",
    "obj = Employee(\"John\", 25000)\n",
    "print(obj)\n"
   ]
  },
  {
   "cell_type": "code",
   "execution_count": null,
   "id": "9520da0b",
   "metadata": {},
   "outputs": [],
   "source": [
    "\"\"\"\n",
    "3. Create another class named Calculator, with methods to add, subtract, multiply and divide two\n",
    "numbers.\n",
    "\n",
    "4. These methods take two numbers as parameters.\n",
    "\n",
    "5. These methods will be called by method named execute command.\n",
    "\n",
    "6. Execute command takes in 3 parameters command which is string that can be either ‘add’, ‘sub’,\n",
    "‘mul’, ‘div’, and two numbers and it will call the appropriate method based on command\n",
    "parameter.\n",
    "\"\"\""
   ]
  },
  {
   "cell_type": "code",
   "execution_count": 1,
   "id": "00517951",
   "metadata": {},
   "outputs": [
    {
     "name": "stdout",
     "output_type": "stream",
     "text": [
      "Enter a number: 25\n",
      "Enter another number: 2\n",
      "Enter operation to perform (add/sub/mul/div): mul\n",
      "Product = 50\n"
     ]
    }
   ],
   "source": [
    "class Calculator:\n",
    "    def add(a,b):\n",
    "        add_total = a+b\n",
    "        print(\"Sum =\", add_total)\n",
    "    \n",
    "    def sub(a,b):\n",
    "        sub_total = a-b\n",
    "        print(\"Difference =\", sub_total)\n",
    "        \n",
    "    def mul(a,b):\n",
    "        mul_total = a*b\n",
    "        print(\"Product =\", mul_total)\n",
    "        \n",
    "    def div(a,b):\n",
    "        div_total = a/b\n",
    "        print(\"Division =\", div_total)\n",
    "        \n",
    "    def execute_command(a,b,c):\n",
    "        if c == \"add\":\n",
    "            Calculator.add(a,b)\n",
    "        \n",
    "        elif c == \"sub\":\n",
    "            Calculator.sub(a,b)\n",
    "            \n",
    "        elif c == \"mul\":\n",
    "            Calculator.mul(a,b)\n",
    "            \n",
    "        elif c == \"div\":\n",
    "            Calculator.div(a,b)\n",
    "            \n",
    "        else:\n",
    "            print(\"Wrong Input.\")\n",
    "\n",
    "a = int(input(\"Enter a number: \"))\n",
    "b = int(input(\"Enter another number: \"))\n",
    "c = str(input(\"Enter operation to perform (add/sub/mul/div): \"))\n",
    "\n",
    "d = Calculator.execute_command(a,b,c)"
   ]
  }
 ],
 "metadata": {
  "kernelspec": {
   "display_name": "Python 3 (ipykernel)",
   "language": "python",
   "name": "python3"
  },
  "language_info": {
   "codemirror_mode": {
    "name": "ipython",
    "version": 3
   },
   "file_extension": ".py",
   "mimetype": "text/x-python",
   "name": "python",
   "nbconvert_exporter": "python",
   "pygments_lexer": "ipython3",
   "version": "3.8.8"
  }
 },
 "nbformat": 4,
 "nbformat_minor": 5
}
