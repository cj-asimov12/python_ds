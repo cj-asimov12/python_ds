{
 "cells": [
  {
   "cell_type": "code",
   "execution_count": null,
   "id": "529fc984",
   "metadata": {},
   "outputs": [],
   "source": [
    "'''\n",
    "1. Create an array that is having user defined inputs and with the help of for loop, fetch all the prime\n",
    "numbers and print the numbers.\n",
    "'''"
   ]
  },
  {
   "cell_type": "code",
   "execution_count": 2,
   "id": "dde1e8e9",
   "metadata": {},
   "outputs": [
    {
     "name": "stdout",
     "output_type": "stream",
     "text": [
      "Prime numbers are : 2 3 5 7 "
     ]
    }
   ],
   "source": [
    "import array as arr\n",
    "\n",
    "a = arr.array('i', [2, 3, 4, 5, 15, 30, 22, 44, 7, 9])\n",
    "\n",
    "print(\"Prime numbers are :\", end=\" \")\n",
    "\n",
    "for i in a:\n",
    "    num = i\n",
    "    j = 2\n",
    "    f = 1\n",
    "    while j < num:\n",
    "        if num % j == 0:\n",
    "            f = 0\n",
    "            break\n",
    "        j = j + 1\n",
    "\n",
    "    if f == 1:\n",
    "        print(num, end=\" \")\n"
   ]
  }
 ],
 "metadata": {
  "kernelspec": {
   "display_name": "Python 3 (ipykernel)",
   "language": "python",
   "name": "python3"
  },
  "language_info": {
   "codemirror_mode": {
    "name": "ipython",
    "version": 3
   },
   "file_extension": ".py",
   "mimetype": "text/x-python",
   "name": "python",
   "nbconvert_exporter": "python",
   "pygments_lexer": "ipython3",
   "version": "3.8.8"
  }
 },
 "nbformat": 4,
 "nbformat_minor": 5
}
