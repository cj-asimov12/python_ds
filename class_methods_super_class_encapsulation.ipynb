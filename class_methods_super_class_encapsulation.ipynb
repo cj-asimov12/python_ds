{
 "cells": [
  {
   "cell_type": "code",
   "execution_count": null,
   "id": "bb105225",
   "metadata": {},
   "outputs": [],
   "source": [
    "\"\"\"\n",
    "1. Create a class named ‘Super’ and inside that class define a user-defined function named\n",
    "fun1.\n",
    "a. Inside the ‘fun1’ function, pass the message “This is function 1 in the Super class.”\n",
    "in the print statement.\n",
    "\n",
    "2. Create another classed named ‘Modified_Super’ and inherit this class from the Super class.\n",
    "\n",
    "a. Inside the Modified_Super class, create a function named ‘fun1’ and pass the\n",
    "following message inside the print statement: ‘This is function 1 in the Modified\n",
    "Super class.’\n",
    "\n",
    "b. Create another user-defined function named ‘fun2’ and pass the message: ‘This is\n",
    "the 2\n",
    "nd function from the Modified Super class’ in the print statement.\n",
    "\n",
    "c. After that, now create an object for the Modified_Super class and call the fun1().\n",
    "\"\"\""
   ]
  },
  {
   "cell_type": "code",
   "execution_count": 121,
   "id": "5e5d9b98",
   "metadata": {
    "scrolled": false
   },
   "outputs": [],
   "source": [
    "class Super:\n",
    "    \n",
    "    def fun1():\n",
    "        print(\"This is function 1 in the Super class.\")\n",
    "        \n",
    "class Modified_Super:\n",
    "    \n",
    "    def fun1():\n",
    "        print(\"This is function 1 in the Modified Super class.\")\n",
    "        \n",
    "    def fun2():\n",
    "        print(\"This is 2nd function from the Modified Super class.\")       "
   ]
  },
  {
   "cell_type": "code",
   "execution_count": 21,
   "id": "6e793ecf",
   "metadata": {
    "scrolled": false
   },
   "outputs": [
    {
     "name": "stdout",
     "output_type": "stream",
     "text": [
      "This is function 1 in the Modified Super class.\n"
     ]
    }
   ],
   "source": [
    "s2 = Modified_Super\n",
    "s2.fun1()"
   ]
  },
  {
   "cell_type": "code",
   "execution_count": 122,
   "id": "a0bd2b16",
   "metadata": {},
   "outputs": [
    {
     "name": "stdout",
     "output_type": "stream",
     "text": [
      "This function is only having one argument.\n"
     ]
    }
   ],
   "source": [
    "New_Class.Hello(1)"
   ]
  },
  {
   "cell_type": "code",
   "execution_count": 123,
   "id": "4d391f5b",
   "metadata": {},
   "outputs": [
    {
     "name": "stdout",
     "output_type": "stream",
     "text": [
      "This function is having two methods.\n"
     ]
    }
   ],
   "source": [
    "New_Class_2.Hello(1,2)"
   ]
  },
  {
   "cell_type": "code",
   "execution_count": null,
   "id": "9c08605b",
   "metadata": {},
   "outputs": [],
   "source": [
    "\"\"\"\n",
    "3. Create 2 methods named ‘Hello’. In the 1st Hello method, pass only one argument and pass\n",
    "this message: ‘This function is only having 1 argument’. And in the 2nd Hello method, pass\n",
    "two arguments and pass this message: ‘This function is having 2 arguments’.\n",
    "\n",
    "a. Try to call both the methods and analyze the output of both the methods.\n",
    "\"\"\""
   ]
  },
  {
   "cell_type": "code",
   "execution_count": null,
   "id": "85fc92b4",
   "metadata": {},
   "outputs": [],
   "source": [
    "class New_Class:\n",
    "    \n",
    "    def Hello(a):     \n",
    "        print(\"This function is only having one argument.\")\n",
    "\n",
    "class New_Class_2:\n",
    "    \n",
    "    def Hello(a,b):\n",
    "        print(\"This function is having two methods.\")"
   ]
  },
  {
   "cell_type": "code",
   "execution_count": null,
   "id": "4f0e10fc",
   "metadata": {},
   "outputs": [],
   "source": [
    "\"\"\"\n",
    "4. Create a method named ‘Sum’ that can accept multiple user inputs. Now add those userdefined input values using for loop and the function should return the addition of the\n",
    "numbers.\n",
    "\"\"\""
   ]
  },
  {
   "cell_type": "code",
   "execution_count": null,
   "id": "5cd4cb29",
   "metadata": {},
   "outputs": [],
   "source": [
    "class New_Class_3:    \n",
    "    \n",
    "    def Sum(*args):\n",
    "        total = 0\n",
    "        for i in args:\n",
    "            total = total + i\n",
    "        return total\n",
    "\n",
    "a = int(input(\"Enter a number: \"))\n",
    "b = int(input(\"Enter a number: \"))"
   ]
  },
  {
   "cell_type": "code",
   "execution_count": 50,
   "id": "7a04c0fc",
   "metadata": {
    "scrolled": false
   },
   "outputs": [
    {
     "data": {
      "text/plain": [
       "5"
      ]
     },
     "execution_count": 50,
     "metadata": {},
     "output_type": "execute_result"
    }
   ],
   "source": [
    "New_Class_3.Sum(a,b)"
   ]
  },
  {
   "cell_type": "code",
   "execution_count": null,
   "id": "06ec033e",
   "metadata": {},
   "outputs": [],
   "source": [
    "\"\"\"\n",
    "5. Create a class named ‘Encapsulation’:\n",
    "a. Inside the class, first create a constructor. Inside the constructor, initialize\n",
    "originalValue variable as 10.\n",
    "b. After creating the constructor, define a function named ‘Value’ and this function\n",
    "should return the variable that we have initialized in the constructor.\n",
    "c. Now create 2nd function named setValue, and pass an argument named\n",
    "‘newValue’. The task of this function will be to replace the value of the\n",
    "originalValue variable by the value of newValue variable.\n",
    "\"\"\""
   ]
  },
  {
   "cell_type": "code",
   "execution_count": null,
   "id": "349496c7",
   "metadata": {},
   "outputs": [],
   "source": [
    "class Encapsulation:\n",
    "    \n",
    "    def __init__(self,originalValue):\n",
    "        self.originalValue = originalValue\n",
    "    \n",
    "    def Value (self):\n",
    "        print(\"Value = \",self.originalValue)\n",
    "        \n",
    "    def setValue(self,newValue):\n",
    "        self.originalValue = newValue\n",
    "        print(\"newValue = \",self.originalValue)"
   ]
  },
  {
   "cell_type": "code",
   "execution_count": 120,
   "id": "2bb10c1a",
   "metadata": {
    "scrolled": false
   },
   "outputs": [
    {
     "name": "stdout",
     "output_type": "stream",
     "text": [
      "Value =  10\n",
      "newValue =  5\n"
     ]
    }
   ],
   "source": [
    "e1 = Encapsulation(10)\n",
    "e1.Value()\n",
    "e1.setValue(5)"
   ]
  }
 ],
 "metadata": {
  "kernelspec": {
   "display_name": "Python 3 (ipykernel)",
   "language": "python",
   "name": "python3"
  },
  "language_info": {
   "codemirror_mode": {
    "name": "ipython",
    "version": 3
   },
   "file_extension": ".py",
   "mimetype": "text/x-python",
   "name": "python",
   "nbconvert_exporter": "python",
   "pygments_lexer": "ipython3",
   "version": "3.8.8"
  }
 },
 "nbformat": 4,
 "nbformat_minor": 5
}
