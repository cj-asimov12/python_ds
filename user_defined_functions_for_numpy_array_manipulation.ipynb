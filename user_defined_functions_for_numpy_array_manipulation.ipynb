{
 "cells": [
  {
   "cell_type": "code",
   "execution_count": null,
   "id": "679f6be6",
   "metadata": {},
   "outputs": [],
   "source": [
    "'''\n",
    "1. Create a function that takes dimensions as tuples e.g.(3, 3) and a numeric value and returns a\n",
    "Numpy array of the given dimension filled with the given value e.g.: solve((3, 3), 5) will return\n",
    "[\n",
    " [5, 5, 5],\n",
    " [5, 5, 5],\n",
    " [5, 5, 5]\n",
    "]\n",
    "'''"
   ]
  },
  {
   "cell_type": "code",
   "execution_count": 12,
   "id": "c24b1594",
   "metadata": {},
   "outputs": [
    {
     "name": "stdout",
     "output_type": "stream",
     "text": [
      "Enter the first value: 3\n",
      "Enter the second value: 3\n",
      "Enter the third value: 5\n",
      "[[5 5 5]\n",
      " [5 5 5]\n",
      " [5 5 5]]\n"
     ]
    }
   ],
   "source": [
    "import numpy as np\n",
    "\n",
    "def fun(a,b,c):\n",
    "    d = np.full((a,b),c)\n",
    "    return d\n",
    "\n",
    "a = int(input(\"Enter the first value: \"))\n",
    "b = int(input(\"Enter the second value: \"))\n",
    "c = int(input(\"Enter the third value: \"))\n",
    "\n",
    "print(fun(a,b,c))"
   ]
  },
  {
   "cell_type": "code",
   "execution_count": null,
   "id": "8c4ff22d",
   "metadata": {},
   "outputs": [],
   "source": [
    "'''\n",
    "2. Create a method that takes n Numpy arrays of same dimensions, sums them and returns the\n",
    "answer.\n",
    "'''"
   ]
  },
  {
   "cell_type": "code",
   "execution_count": 13,
   "id": "b4e54e05",
   "metadata": {},
   "outputs": [
    {
     "data": {
      "text/plain": [
       "array([50, 70, 90])"
      ]
     },
     "execution_count": 13,
     "metadata": {},
     "output_type": "execute_result"
    }
   ],
   "source": [
    "import numpy as np\n",
    "\n",
    "def math(a,b):\n",
    "    sum1 = np.add(a,b)\n",
    "    return sum1\n",
    "\n",
    "a = np.array([10,20,30])\n",
    "b = np.array([40,50,60])\n",
    "\n",
    "math(a,b)"
   ]
  },
  {
   "cell_type": "code",
   "execution_count": null,
   "id": "e814e657",
   "metadata": {},
   "outputs": [],
   "source": [
    "'''\n",
    "3. Given a 2 D Array of n X m Dimension, Write a function that accepts this array as well as two\n",
    "numbers N and M. The method should return the top-left N X M sub matrix.\n",
    "'''"
   ]
  },
  {
   "cell_type": "code",
   "execution_count": 15,
   "id": "d443bfe6",
   "metadata": {},
   "outputs": [
    {
     "name": "stdout",
     "output_type": "stream",
     "text": [
      "[[1 2]\n",
      " [4 5]]\n"
     ]
    }
   ],
   "source": [
    "def math1(a):\n",
    "    print(a[0:2, 0:2])\n",
    "    \n",
    "a = np.array([[1,2,3], [4,5,6], [7,8,9]])\n",
    "\n",
    "math1(a)"
   ]
  },
  {
   "cell_type": "code",
   "execution_count": null,
   "id": "e1d39b0d",
   "metadata": {},
   "outputs": [],
   "source": [
    "'''\n",
    "4. Given a 2 D Array of N X M Dimension, Write a function that accepts this array as well as two\n",
    "numbers N and M The method should return the bottom-right N X M sub matrix.\n",
    "'''"
   ]
  },
  {
   "cell_type": "code",
   "execution_count": 17,
   "id": "742248f0",
   "metadata": {},
   "outputs": [
    {
     "name": "stdout",
     "output_type": "stream",
     "text": [
      "[[1 2]\n",
      " [4 5]]\n"
     ]
    }
   ],
   "source": [
    "def math1(a):\n",
    "    print(a[:2, :2])\n",
    "\n",
    "a = np.array([[1,2,3], [4,5,6], [7,8,9]])\n",
    "math1(a)"
   ]
  },
  {
   "cell_type": "code",
   "execution_count": 18,
   "id": "14f99d79",
   "metadata": {},
   "outputs": [
    {
     "name": "stdout",
     "output_type": "stream",
     "text": [
      "[[5 6]\n",
      " [8 9]]\n"
     ]
    }
   ],
   "source": [
    "def math1(a):\n",
    "    print(a[1:, 1:])\n",
    "a = np.array([[1,2,3], [4,5,6], [7,8,9]])\n",
    "math1(a)        "
   ]
  },
  {
   "cell_type": "code",
   "execution_count": 19,
   "id": "28df7a61",
   "metadata": {
    "scrolled": true
   },
   "outputs": [
    {
     "name": "stdout",
     "output_type": "stream",
     "text": [
      "[[50 60]\n",
      " [80 90]]\n"
     ]
    }
   ],
   "source": [
    "def func(a):\n",
    "    print(a[1:, 1:])\n",
    "    \n",
    "d = np.arange(10,91,10).reshape(3,3)\n",
    "func(d)       "
   ]
  },
  {
   "cell_type": "code",
   "execution_count": null,
   "id": "62ff3dfa",
   "metadata": {},
   "outputs": [],
   "source": [
    "'''\n",
    "5. Given a 1 D Numpy Array. Write a function that accepts this array as parameters. The method\n",
    "should return a dictionary with 'mean' and 'std_dev' as key and array's mean and array's\n",
    "standard deviation as values\n",
    "'''"
   ]
  },
  {
   "cell_type": "code",
   "execution_count": 20,
   "id": "66e55ead",
   "metadata": {},
   "outputs": [
    {
     "data": {
      "text/plain": [
       "{'mean': 1.0, 'std_dev': 0.0}"
      ]
     },
     "execution_count": 20,
     "metadata": {},
     "output_type": "execute_result"
    }
   ],
   "source": [
    "def math2(a):\n",
    "    dict1 = {\"mean\":np.mean(a), \"std_dev\":np.std(a)}\n",
    "    return dict1\n",
    "\n",
    "a = np.array([1,1,1])\n",
    "math2(a)"
   ]
  }
 ],
 "metadata": {
  "kernelspec": {
   "display_name": "Python 3 (ipykernel)",
   "language": "python",
   "name": "python3"
  },
  "language_info": {
   "codemirror_mode": {
    "name": "ipython",
    "version": 3
   },
   "file_extension": ".py",
   "mimetype": "text/x-python",
   "name": "python",
   "nbconvert_exporter": "python",
   "pygments_lexer": "ipython3",
   "version": "3.8.8"
  }
 },
 "nbformat": 4,
 "nbformat_minor": 5
}
