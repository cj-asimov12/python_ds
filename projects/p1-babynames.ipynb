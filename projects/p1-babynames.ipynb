{
 "cells": [
  {
   "cell_type": "markdown",
   "id": "156b6493",
   "metadata": {},
   "source": [
    "# Analyzing Naming Trends using Python"
   ]
  },
  {
   "cell_type": "code",
   "execution_count": 24,
   "id": "b8824a30",
   "metadata": {},
   "outputs": [],
   "source": [
    "import pandas as pd\n",
    "import numpy as np"
   ]
  },
  {
   "cell_type": "markdown",
   "id": "03d0a8b8",
   "metadata": {},
   "source": [
    "## Data Preview"
   ]
  },
  {
   "cell_type": "code",
   "execution_count": 5,
   "id": "9a193ddd",
   "metadata": {},
   "outputs": [],
   "source": [
    "names1880 = pd.read_csv(\"C:\\\\Users\\\\black\\\\Desktop\\\\PyforDS\\\\datasets\\\\babynames\\\\yob1880.txt\", names=[\"name\",\"sex\",\"births\"])"
   ]
  },
  {
   "cell_type": "code",
   "execution_count": 7,
   "id": "f5133c26",
   "metadata": {},
   "outputs": [
    {
     "data": {
      "text/plain": [
       "<bound method DataFrame.info of            name sex  births\n",
       "0          Mary   F    7065\n",
       "1          Anna   F    2604\n",
       "2          Emma   F    2003\n",
       "3     Elizabeth   F    1939\n",
       "4        Minnie   F    1746\n",
       "...         ...  ..     ...\n",
       "1995     Woodie   M       5\n",
       "1996     Worthy   M       5\n",
       "1997     Wright   M       5\n",
       "1998       York   M       5\n",
       "1999  Zachariah   M       5\n",
       "\n",
       "[2000 rows x 3 columns]>"
      ]
     },
     "execution_count": 7,
     "metadata": {},
     "output_type": "execute_result"
    }
   ],
   "source": [
    "names1880.info"
   ]
  },
  {
   "cell_type": "code",
   "execution_count": 8,
   "id": "cb56dbaf",
   "metadata": {},
   "outputs": [
    {
     "data": {
      "text/plain": [
       "sex\n",
       "F     90994\n",
       "M    110490\n",
       "Name: births, dtype: int64"
      ]
     },
     "execution_count": 8,
     "metadata": {},
     "output_type": "execute_result"
    }
   ],
   "source": [
    "names1880.groupby('sex').births.sum()"
   ]
  },
  {
   "cell_type": "markdown",
   "id": "be880339",
   "metadata": {},
   "source": [
    "## Assembling the Data"
   ]
  },
  {
   "cell_type": "code",
   "execution_count": 11,
   "id": "33353699",
   "metadata": {},
   "outputs": [],
   "source": [
    "pieces = []\n",
    "columns = ['name', 'sex', 'births']\n",
    "years = range(1880, 2011)"
   ]
  },
  {
   "cell_type": "code",
   "execution_count": 14,
   "id": "bc1cd3d8",
   "metadata": {},
   "outputs": [],
   "source": [
    "for year in years:\n",
    "    path = 'C:\\\\Users\\\\black\\\\Desktop\\\\PyforDS\\\\datasets\\\\babynames\\\\yob%d.txt' % year\n",
    "    frame = pd.read_csv(path, names=columns)\n",
    "    frame['year'] = year\n",
    "    pieces.append(frame)\n",
    "    names = pd.concat(pieces, ignore_index=True)"
   ]
  },
  {
   "cell_type": "code",
   "execution_count": 15,
   "id": "00fd340d",
   "metadata": {},
   "outputs": [
    {
     "data": {
      "text/plain": [
       "<bound method DataFrame.info of               name sex  births  year\n",
       "0             Mary   F    7065  1880\n",
       "1             Anna   F    2604  1880\n",
       "2             Emma   F    2003  1880\n",
       "3        Elizabeth   F    1939  1880\n",
       "4           Minnie   F    1746  1880\n",
       "...            ...  ..     ...   ...\n",
       "1692316    Zymaire   M       5  2010\n",
       "1692317     Zyonne   M       5  2010\n",
       "1692318  Zyquarius   M       5  2010\n",
       "1692319      Zyran   M       5  2010\n",
       "1692320      Zzyzx   M       5  2010\n",
       "\n",
       "[1692321 rows x 4 columns]>"
      ]
     },
     "execution_count": 15,
     "metadata": {},
     "output_type": "execute_result"
    }
   ],
   "source": [
    "names.info"
   ]
  },
  {
   "cell_type": "code",
   "execution_count": 17,
   "id": "865e32a9",
   "metadata": {},
   "outputs": [],
   "source": [
    "names.to_pickle('names.pkl')"
   ]
  },
  {
   "cell_type": "markdown",
   "id": "7ea504e0",
   "metadata": {},
   "source": [
    "## Exploring the Data"
   ]
  },
  {
   "cell_type": "code",
   "execution_count": 19,
   "id": "bf164a25",
   "metadata": {},
   "outputs": [],
   "source": [
    "total_births = names.pivot_table('births', index='year', columns='sex', aggfunc=sum)"
   ]
  },
  {
   "cell_type": "code",
   "execution_count": 20,
   "id": "3c304dd2",
   "metadata": {},
   "outputs": [
    {
     "data": {
      "text/html": [
       "<div>\n",
       "<style scoped>\n",
       "    .dataframe tbody tr th:only-of-type {\n",
       "        vertical-align: middle;\n",
       "    }\n",
       "\n",
       "    .dataframe tbody tr th {\n",
       "        vertical-align: top;\n",
       "    }\n",
       "\n",
       "    .dataframe thead th {\n",
       "        text-align: right;\n",
       "    }\n",
       "</style>\n",
       "<table border=\"1\" class=\"dataframe\">\n",
       "  <thead>\n",
       "    <tr style=\"text-align: right;\">\n",
       "      <th>sex</th>\n",
       "      <th>F</th>\n",
       "      <th>M</th>\n",
       "    </tr>\n",
       "    <tr>\n",
       "      <th>year</th>\n",
       "      <th></th>\n",
       "      <th></th>\n",
       "    </tr>\n",
       "  </thead>\n",
       "  <tbody>\n",
       "    <tr>\n",
       "      <th>2006</th>\n",
       "      <td>1900190</td>\n",
       "      <td>2054166</td>\n",
       "    </tr>\n",
       "    <tr>\n",
       "      <th>2007</th>\n",
       "      <td>1921491</td>\n",
       "      <td>2074249</td>\n",
       "    </tr>\n",
       "    <tr>\n",
       "      <th>2008</th>\n",
       "      <td>1889593</td>\n",
       "      <td>2038796</td>\n",
       "    </tr>\n",
       "    <tr>\n",
       "      <th>2009</th>\n",
       "      <td>1835649</td>\n",
       "      <td>1982082</td>\n",
       "    </tr>\n",
       "    <tr>\n",
       "      <th>2010</th>\n",
       "      <td>1775986</td>\n",
       "      <td>1917177</td>\n",
       "    </tr>\n",
       "  </tbody>\n",
       "</table>\n",
       "</div>"
      ],
      "text/plain": [
       "sex         F        M\n",
       "year                  \n",
       "2006  1900190  2054166\n",
       "2007  1921491  2074249\n",
       "2008  1889593  2038796\n",
       "2009  1835649  1982082\n",
       "2010  1775986  1917177"
      ]
     },
     "execution_count": 20,
     "metadata": {},
     "output_type": "execute_result"
    }
   ],
   "source": [
    "total_births.tail()"
   ]
  },
  {
   "cell_type": "code",
   "execution_count": 21,
   "id": "75dd0f20",
   "metadata": {},
   "outputs": [
    {
     "data": {
      "text/plain": [
       "<AxesSubplot:title={'center':'Total Births by sex and year'}, xlabel='year'>"
      ]
     },
     "execution_count": 21,
     "metadata": {},
     "output_type": "execute_result"
    },
    {
     "data": {
      "image/png": "[encoded data removed]",
      "text/plain": [
       "<Figure size 432x288 with 1 Axes>"
      ]
     },
     "metadata": {
      "needs_background": "light"
     },
     "output_type": "display_data"
    }
   ],
   "source": [
    "total_births.plot(title='Total Births by sex and year')"
   ]
  },
  {
   "cell_type": "markdown",
   "id": "cf649ee8",
   "metadata": {},
   "source": [
    "## Adding Proportion and Subsetting Top 100 Names"
   ]
  },
  {
   "cell_type": "code",
   "execution_count": 62,
   "id": "96f4532e",
   "metadata": {},
   "outputs": [
    {
     "data": {
      "text/html": [
       "<div>\n",
       "<style scoped>\n",
       "    .dataframe tbody tr th:only-of-type {\n",
       "        vertical-align: middle;\n",
       "    }\n",
       "\n",
       "    .dataframe tbody tr th {\n",
       "        vertical-align: top;\n",
       "    }\n",
       "\n",
       "    .dataframe thead th {\n",
       "        text-align: right;\n",
       "    }\n",
       "</style>\n",
       "<table border=\"1\" class=\"dataframe\">\n",
       "  <thead>\n",
       "    <tr style=\"text-align: right;\">\n",
       "      <th></th>\n",
       "      <th>name</th>\n",
       "      <th>sex</th>\n",
       "      <th>births</th>\n",
       "      <th>year</th>\n",
       "      <th>prop</th>\n",
       "    </tr>\n",
       "  </thead>\n",
       "  <tbody>\n",
       "    <tr>\n",
       "      <th>0</th>\n",
       "      <td>Mary</td>\n",
       "      <td>F</td>\n",
       "      <td>7065</td>\n",
       "      <td>1880</td>\n",
       "      <td>0.077642</td>\n",
       "    </tr>\n",
       "    <tr>\n",
       "      <th>1</th>\n",
       "      <td>Anna</td>\n",
       "      <td>F</td>\n",
       "      <td>2604</td>\n",
       "      <td>1880</td>\n",
       "      <td>0.028617</td>\n",
       "    </tr>\n",
       "    <tr>\n",
       "      <th>2</th>\n",
       "      <td>Emma</td>\n",
       "      <td>F</td>\n",
       "      <td>2003</td>\n",
       "      <td>1880</td>\n",
       "      <td>0.022012</td>\n",
       "    </tr>\n",
       "    <tr>\n",
       "      <th>3</th>\n",
       "      <td>Elizabeth</td>\n",
       "      <td>F</td>\n",
       "      <td>1939</td>\n",
       "      <td>1880</td>\n",
       "      <td>0.021309</td>\n",
       "    </tr>\n",
       "    <tr>\n",
       "      <th>4</th>\n",
       "      <td>Minnie</td>\n",
       "      <td>F</td>\n",
       "      <td>1746</td>\n",
       "      <td>1880</td>\n",
       "      <td>0.019188</td>\n",
       "    </tr>\n",
       "    <tr>\n",
       "      <th>...</th>\n",
       "      <td>...</td>\n",
       "      <td>...</td>\n",
       "      <td>...</td>\n",
       "      <td>...</td>\n",
       "      <td>...</td>\n",
       "    </tr>\n",
       "    <tr>\n",
       "      <th>1692316</th>\n",
       "      <td>Zymaire</td>\n",
       "      <td>M</td>\n",
       "      <td>5</td>\n",
       "      <td>2010</td>\n",
       "      <td>0.000003</td>\n",
       "    </tr>\n",
       "    <tr>\n",
       "      <th>1692317</th>\n",
       "      <td>Zyonne</td>\n",
       "      <td>M</td>\n",
       "      <td>5</td>\n",
       "      <td>2010</td>\n",
       "      <td>0.000003</td>\n",
       "    </tr>\n",
       "    <tr>\n",
       "      <th>1692318</th>\n",
       "      <td>Zyquarius</td>\n",
       "      <td>M</td>\n",
       "      <td>5</td>\n",
       "      <td>2010</td>\n",
       "      <td>0.000003</td>\n",
       "    </tr>\n",
       "    <tr>\n",
       "      <th>1692319</th>\n",
       "      <td>Zyran</td>\n",
       "      <td>M</td>\n",
       "      <td>5</td>\n",
       "      <td>2010</td>\n",
       "      <td>0.000003</td>\n",
       "    </tr>\n",
       "    <tr>\n",
       "      <th>1692320</th>\n",
       "      <td>Zzyzx</td>\n",
       "      <td>M</td>\n",
       "      <td>5</td>\n",
       "      <td>2010</td>\n",
       "      <td>0.000003</td>\n",
       "    </tr>\n",
       "  </tbody>\n",
       "</table>\n",
       "<p>1692321 rows × 5 columns</p>\n",
       "</div>"
      ],
      "text/plain": [
       "              name sex  births  year      prop\n",
       "0             Mary   F    7065  1880  0.077642\n",
       "1             Anna   F    2604  1880  0.028617\n",
       "2             Emma   F    2003  1880  0.022012\n",
       "3        Elizabeth   F    1939  1880  0.021309\n",
       "4           Minnie   F    1746  1880  0.019188\n",
       "...            ...  ..     ...   ...       ...\n",
       "1692316    Zymaire   M       5  2010  0.000003\n",
       "1692317     Zyonne   M       5  2010  0.000003\n",
       "1692318  Zyquarius   M       5  2010  0.000003\n",
       "1692319      Zyran   M       5  2010  0.000003\n",
       "1692320      Zzyzx   M       5  2010  0.000003\n",
       "\n",
       "[1692321 rows x 5 columns]"
      ]
     },
     "execution_count": 62,
     "metadata": {},
     "output_type": "execute_result"
    }
   ],
   "source": [
    "# group by year and sex\n",
    "# add proportion of babies given certain name relative to number of births\n",
    "def add_prop(group):\n",
    "    # integer division floors\n",
    "    births = group.births.astype(float)\n",
    "    group['prop'] = births / births.sum()\n",
    "    return group\n",
    "\n",
    "\n",
    "names = names.groupby(['year','sex']).apply(add_prop)\n",
    "\n",
    "names"
   ]
  },
  {
   "cell_type": "code",
   "execution_count": 63,
   "id": "8f51efc4",
   "metadata": {},
   "outputs": [
    {
     "data": {
      "text/plain": [
       "True"
      ]
     },
     "execution_count": 63,
     "metadata": {},
     "output_type": "execute_result"
    }
   ],
   "source": [
    "np.allclose(names.groupby(['year','sex']).prop.sum(),1)"
   ]
  },
  {
   "cell_type": "code",
   "execution_count": 70,
   "id": "96aeaf5b",
   "metadata": {},
   "outputs": [
    {
     "data": {
      "text/html": [
       "<div>\n",
       "<style scoped>\n",
       "    .dataframe tbody tr th:only-of-type {\n",
       "        vertical-align: middle;\n",
       "    }\n",
       "\n",
       "    .dataframe tbody tr th {\n",
       "        vertical-align: top;\n",
       "    }\n",
       "\n",
       "    .dataframe thead th {\n",
       "        text-align: right;\n",
       "    }\n",
       "</style>\n",
       "<table border=\"1\" class=\"dataframe\">\n",
       "  <thead>\n",
       "    <tr style=\"text-align: right;\">\n",
       "      <th></th>\n",
       "      <th>name</th>\n",
       "      <th>sex</th>\n",
       "      <th>births</th>\n",
       "      <th>year</th>\n",
       "      <th>prop</th>\n",
       "    </tr>\n",
       "  </thead>\n",
       "  <tbody>\n",
       "    <tr>\n",
       "      <th>431069</th>\n",
       "      <td>Linda</td>\n",
       "      <td>F</td>\n",
       "      <td>99693</td>\n",
       "      <td>1947</td>\n",
       "      <td>0.056238</td>\n",
       "    </tr>\n",
       "    <tr>\n",
       "      <th>441440</th>\n",
       "      <td>Linda</td>\n",
       "      <td>F</td>\n",
       "      <td>96212</td>\n",
       "      <td>1948</td>\n",
       "      <td>0.056667</td>\n",
       "    </tr>\n",
       "    <tr>\n",
       "      <th>437172</th>\n",
       "      <td>James</td>\n",
       "      <td>M</td>\n",
       "      <td>94764</td>\n",
       "      <td>1947</td>\n",
       "      <td>0.051798</td>\n",
       "    </tr>\n",
       "    <tr>\n",
       "      <th>544666</th>\n",
       "      <td>Michael</td>\n",
       "      <td>M</td>\n",
       "      <td>92718</td>\n",
       "      <td>1957</td>\n",
       "      <td>0.042997</td>\n",
       "    </tr>\n",
       "    <tr>\n",
       "      <th>437173</th>\n",
       "      <td>Robert</td>\n",
       "      <td>M</td>\n",
       "      <td>91647</td>\n",
       "      <td>1947</td>\n",
       "      <td>0.050094</td>\n",
       "    </tr>\n",
       "    <tr>\n",
       "      <th>...</th>\n",
       "      <td>...</td>\n",
       "      <td>...</td>\n",
       "      <td>...</td>\n",
       "      <td>...</td>\n",
       "      <td>...</td>\n",
       "    </tr>\n",
       "    <tr>\n",
       "      <th>478471</th>\n",
       "      <td>Michael</td>\n",
       "      <td>M</td>\n",
       "      <td>72801</td>\n",
       "      <td>1951</td>\n",
       "      <td>0.038665</td>\n",
       "    </tr>\n",
       "    <tr>\n",
       "      <th>604209</th>\n",
       "      <td>James</td>\n",
       "      <td>M</td>\n",
       "      <td>72548</td>\n",
       "      <td>1962</td>\n",
       "      <td>0.035070</td>\n",
       "    </tr>\n",
       "    <tr>\n",
       "      <th>579847</th>\n",
       "      <td>Robert</td>\n",
       "      <td>M</td>\n",
       "      <td>72351</td>\n",
       "      <td>1960</td>\n",
       "      <td>0.033934</td>\n",
       "    </tr>\n",
       "    <tr>\n",
       "      <th>191064</th>\n",
       "      <td>Mary</td>\n",
       "      <td>F</td>\n",
       "      <td>72176</td>\n",
       "      <td>1922</td>\n",
       "      <td>0.060097</td>\n",
       "    </tr>\n",
       "    <tr>\n",
       "      <th>389737</th>\n",
       "      <td>Robert</td>\n",
       "      <td>M</td>\n",
       "      <td>71848</td>\n",
       "      <td>1942</td>\n",
       "      <td>0.052026</td>\n",
       "    </tr>\n",
       "  </tbody>\n",
       "</table>\n",
       "<p>100 rows × 5 columns</p>\n",
       "</div>"
      ],
      "text/plain": [
       "           name sex  births  year      prop\n",
       "431069    Linda   F   99693  1947  0.056238\n",
       "441440    Linda   F   96212  1948  0.056667\n",
       "437172    James   M   94764  1947  0.051798\n",
       "544666  Michael   M   92718  1957  0.042997\n",
       "437173   Robert   M   91647  1947  0.050094\n",
       "...         ...  ..     ...   ...       ...\n",
       "478471  Michael   M   72801  1951  0.038665\n",
       "604209    James   M   72548  1962  0.035070\n",
       "579847   Robert   M   72351  1960  0.033934\n",
       "191064     Mary   F   72176  1922  0.060097\n",
       "389737   Robert   M   71848  1942  0.052026\n",
       "\n",
       "[100 rows x 5 columns]"
      ]
     },
     "execution_count": 70,
     "metadata": {},
     "output_type": "execute_result"
    }
   ],
   "source": [
    "top100 = names.sort_values(by=\"births\", ascending=False)[:100]\n",
    "top100"
   ]
  },
  {
   "cell_type": "markdown",
   "id": "2690f9f1",
   "metadata": {},
   "source": [
    "## Naming Trends"
   ]
  },
  {
   "cell_type": "code",
   "execution_count": 29,
   "id": "b04bfa29",
   "metadata": {},
   "outputs": [],
   "source": [
    "top100.to_pickle('top100.pkl')"
   ]
  },
  {
   "cell_type": "code",
   "execution_count": 71,
   "id": "4ce2f96e",
   "metadata": {
    "scrolled": true
   },
   "outputs": [
    {
     "data": {
      "text/html": [
       "<div>\n",
       "<style scoped>\n",
       "    .dataframe tbody tr th:only-of-type {\n",
       "        vertical-align: middle;\n",
       "    }\n",
       "\n",
       "    .dataframe tbody tr th {\n",
       "        vertical-align: top;\n",
       "    }\n",
       "\n",
       "    .dataframe thead th {\n",
       "        text-align: right;\n",
       "    }\n",
       "</style>\n",
       "<table border=\"1\" class=\"dataframe\">\n",
       "  <thead>\n",
       "    <tr style=\"text-align: right;\">\n",
       "      <th>name</th>\n",
       "      <th>David</th>\n",
       "      <th>James</th>\n",
       "      <th>John</th>\n",
       "      <th>Linda</th>\n",
       "      <th>Mary</th>\n",
       "      <th>Michael</th>\n",
       "      <th>Robert</th>\n",
       "    </tr>\n",
       "    <tr>\n",
       "      <th>year</th>\n",
       "      <th></th>\n",
       "      <th></th>\n",
       "      <th></th>\n",
       "      <th></th>\n",
       "      <th></th>\n",
       "      <th></th>\n",
       "      <th></th>\n",
       "    </tr>\n",
       "  </thead>\n",
       "  <tbody>\n",
       "    <tr>\n",
       "      <th>1921</th>\n",
       "      <td>NaN</td>\n",
       "      <td>NaN</td>\n",
       "      <td>NaN</td>\n",
       "      <td>NaN</td>\n",
       "      <td>73985.0</td>\n",
       "      <td>NaN</td>\n",
       "      <td>NaN</td>\n",
       "    </tr>\n",
       "    <tr>\n",
       "      <th>1922</th>\n",
       "      <td>NaN</td>\n",
       "      <td>NaN</td>\n",
       "      <td>NaN</td>\n",
       "      <td>NaN</td>\n",
       "      <td>72176.0</td>\n",
       "      <td>NaN</td>\n",
       "      <td>NaN</td>\n",
       "    </tr>\n",
       "    <tr>\n",
       "      <th>1924</th>\n",
       "      <td>NaN</td>\n",
       "      <td>NaN</td>\n",
       "      <td>NaN</td>\n",
       "      <td>NaN</td>\n",
       "      <td>73536.0</td>\n",
       "      <td>NaN</td>\n",
       "      <td>NaN</td>\n",
       "    </tr>\n",
       "    <tr>\n",
       "      <th>1942</th>\n",
       "      <td>NaN</td>\n",
       "      <td>77174.0</td>\n",
       "      <td>NaN</td>\n",
       "      <td>NaN</td>\n",
       "      <td>NaN</td>\n",
       "      <td>NaN</td>\n",
       "      <td>71848.0</td>\n",
       "    </tr>\n",
       "    <tr>\n",
       "      <th>1943</th>\n",
       "      <td>NaN</td>\n",
       "      <td>80274.0</td>\n",
       "      <td>NaN</td>\n",
       "      <td>NaN</td>\n",
       "      <td>NaN</td>\n",
       "      <td>NaN</td>\n",
       "      <td>74871.0</td>\n",
       "    </tr>\n",
       "    <tr>\n",
       "      <th>1944</th>\n",
       "      <td>NaN</td>\n",
       "      <td>76954.0</td>\n",
       "      <td>NaN</td>\n",
       "      <td>NaN</td>\n",
       "      <td>NaN</td>\n",
       "      <td>NaN</td>\n",
       "      <td>NaN</td>\n",
       "    </tr>\n",
       "    <tr>\n",
       "      <th>1945</th>\n",
       "      <td>NaN</td>\n",
       "      <td>74460.0</td>\n",
       "      <td>NaN</td>\n",
       "      <td>NaN</td>\n",
       "      <td>NaN</td>\n",
       "      <td>NaN</td>\n",
       "      <td>NaN</td>\n",
       "    </tr>\n",
       "    <tr>\n",
       "      <th>1946</th>\n",
       "      <td>NaN</td>\n",
       "      <td>87439.0</td>\n",
       "      <td>79256.0</td>\n",
       "      <td>NaN</td>\n",
       "      <td>NaN</td>\n",
       "      <td>NaN</td>\n",
       "      <td>84138.0</td>\n",
       "    </tr>\n",
       "    <tr>\n",
       "      <th>1947</th>\n",
       "      <td>NaN</td>\n",
       "      <td>94764.0</td>\n",
       "      <td>88319.0</td>\n",
       "      <td>99693.0</td>\n",
       "      <td>NaN</td>\n",
       "      <td>NaN</td>\n",
       "      <td>91647.0</td>\n",
       "    </tr>\n",
       "    <tr>\n",
       "      <th>1948</th>\n",
       "      <td>NaN</td>\n",
       "      <td>88589.0</td>\n",
       "      <td>82833.0</td>\n",
       "      <td>96212.0</td>\n",
       "      <td>NaN</td>\n",
       "      <td>NaN</td>\n",
       "      <td>85475.0</td>\n",
       "    </tr>\n",
       "    <tr>\n",
       "      <th>1949</th>\n",
       "      <td>NaN</td>\n",
       "      <td>86865.0</td>\n",
       "      <td>81170.0</td>\n",
       "      <td>91019.0</td>\n",
       "      <td>NaN</td>\n",
       "      <td>NaN</td>\n",
       "      <td>83875.0</td>\n",
       "    </tr>\n",
       "    <tr>\n",
       "      <th>1950</th>\n",
       "      <td>NaN</td>\n",
       "      <td>86229.0</td>\n",
       "      <td>79428.0</td>\n",
       "      <td>80431.0</td>\n",
       "      <td>NaN</td>\n",
       "      <td>NaN</td>\n",
       "      <td>83555.0</td>\n",
       "    </tr>\n",
       "    <tr>\n",
       "      <th>1951</th>\n",
       "      <td>NaN</td>\n",
       "      <td>87261.0</td>\n",
       "      <td>81572.0</td>\n",
       "      <td>73979.0</td>\n",
       "      <td>NaN</td>\n",
       "      <td>72801.0</td>\n",
       "      <td>86352.0</td>\n",
       "    </tr>\n",
       "    <tr>\n",
       "      <th>1952</th>\n",
       "      <td>NaN</td>\n",
       "      <td>87063.0</td>\n",
       "      <td>83136.0</td>\n",
       "      <td>NaN</td>\n",
       "      <td>NaN</td>\n",
       "      <td>79043.0</td>\n",
       "      <td>86597.0</td>\n",
       "    </tr>\n",
       "    <tr>\n",
       "      <th>1953</th>\n",
       "      <td>76120.0</td>\n",
       "      <td>86080.0</td>\n",
       "      <td>80170.0</td>\n",
       "      <td>NaN</td>\n",
       "      <td>NaN</td>\n",
       "      <td>84201.0</td>\n",
       "      <td>86247.0</td>\n",
       "    </tr>\n",
       "    <tr>\n",
       "      <th>1954</th>\n",
       "      <td>79572.0</td>\n",
       "      <td>86319.0</td>\n",
       "      <td>81195.0</td>\n",
       "      <td>NaN</td>\n",
       "      <td>NaN</td>\n",
       "      <td>88576.0</td>\n",
       "      <td>86341.0</td>\n",
       "    </tr>\n",
       "    <tr>\n",
       "      <th>1955</th>\n",
       "      <td>86323.0</td>\n",
       "      <td>84193.0</td>\n",
       "      <td>80124.0</td>\n",
       "      <td>NaN</td>\n",
       "      <td>NaN</td>\n",
       "      <td>88372.0</td>\n",
       "      <td>83745.0</td>\n",
       "    </tr>\n",
       "    <tr>\n",
       "      <th>1956</th>\n",
       "      <td>81603.0</td>\n",
       "      <td>84861.0</td>\n",
       "      <td>80787.0</td>\n",
       "      <td>NaN</td>\n",
       "      <td>NaN</td>\n",
       "      <td>90665.0</td>\n",
       "      <td>83906.0</td>\n",
       "    </tr>\n",
       "    <tr>\n",
       "      <th>1957</th>\n",
       "      <td>82374.0</td>\n",
       "      <td>84309.0</td>\n",
       "      <td>79007.0</td>\n",
       "      <td>NaN</td>\n",
       "      <td>NaN</td>\n",
       "      <td>92718.0</td>\n",
       "      <td>81739.0</td>\n",
       "    </tr>\n",
       "    <tr>\n",
       "      <th>1958</th>\n",
       "      <td>82603.0</td>\n",
       "      <td>78739.0</td>\n",
       "      <td>76006.0</td>\n",
       "      <td>NaN</td>\n",
       "      <td>NaN</td>\n",
       "      <td>90564.0</td>\n",
       "      <td>77295.0</td>\n",
       "    </tr>\n",
       "    <tr>\n",
       "      <th>1959</th>\n",
       "      <td>83919.0</td>\n",
       "      <td>78604.0</td>\n",
       "      <td>76391.0</td>\n",
       "      <td>NaN</td>\n",
       "      <td>NaN</td>\n",
       "      <td>85224.0</td>\n",
       "      <td>74502.0</td>\n",
       "    </tr>\n",
       "    <tr>\n",
       "      <th>1960</th>\n",
       "      <td>85933.0</td>\n",
       "      <td>76825.0</td>\n",
       "      <td>76083.0</td>\n",
       "      <td>NaN</td>\n",
       "      <td>NaN</td>\n",
       "      <td>84176.0</td>\n",
       "      <td>72351.0</td>\n",
       "    </tr>\n",
       "    <tr>\n",
       "      <th>1961</th>\n",
       "      <td>84758.0</td>\n",
       "      <td>75935.0</td>\n",
       "      <td>79938.0</td>\n",
       "      <td>NaN</td>\n",
       "      <td>NaN</td>\n",
       "      <td>86917.0</td>\n",
       "      <td>72917.0</td>\n",
       "    </tr>\n",
       "    <tr>\n",
       "      <th>1962</th>\n",
       "      <td>81327.0</td>\n",
       "      <td>72548.0</td>\n",
       "      <td>78419.0</td>\n",
       "      <td>NaN</td>\n",
       "      <td>NaN</td>\n",
       "      <td>85041.0</td>\n",
       "      <td>NaN</td>\n",
       "    </tr>\n",
       "    <tr>\n",
       "      <th>1963</th>\n",
       "      <td>78467.0</td>\n",
       "      <td>NaN</td>\n",
       "      <td>78631.0</td>\n",
       "      <td>NaN</td>\n",
       "      <td>NaN</td>\n",
       "      <td>83778.0</td>\n",
       "      <td>NaN</td>\n",
       "    </tr>\n",
       "    <tr>\n",
       "      <th>1964</th>\n",
       "      <td>75057.0</td>\n",
       "      <td>73037.0</td>\n",
       "      <td>82544.0</td>\n",
       "      <td>NaN</td>\n",
       "      <td>NaN</td>\n",
       "      <td>82642.0</td>\n",
       "      <td>NaN</td>\n",
       "    </tr>\n",
       "    <tr>\n",
       "      <th>1965</th>\n",
       "      <td>NaN</td>\n",
       "      <td>NaN</td>\n",
       "      <td>NaN</td>\n",
       "      <td>NaN</td>\n",
       "      <td>NaN</td>\n",
       "      <td>81021.0</td>\n",
       "      <td>NaN</td>\n",
       "    </tr>\n",
       "    <tr>\n",
       "      <th>1966</th>\n",
       "      <td>NaN</td>\n",
       "      <td>NaN</td>\n",
       "      <td>NaN</td>\n",
       "      <td>NaN</td>\n",
       "      <td>NaN</td>\n",
       "      <td>79990.0</td>\n",
       "      <td>NaN</td>\n",
       "    </tr>\n",
       "    <tr>\n",
       "      <th>1967</th>\n",
       "      <td>NaN</td>\n",
       "      <td>NaN</td>\n",
       "      <td>NaN</td>\n",
       "      <td>NaN</td>\n",
       "      <td>NaN</td>\n",
       "      <td>82440.0</td>\n",
       "      <td>NaN</td>\n",
       "    </tr>\n",
       "    <tr>\n",
       "      <th>1968</th>\n",
       "      <td>NaN</td>\n",
       "      <td>NaN</td>\n",
       "      <td>NaN</td>\n",
       "      <td>NaN</td>\n",
       "      <td>NaN</td>\n",
       "      <td>81995.0</td>\n",
       "      <td>NaN</td>\n",
       "    </tr>\n",
       "    <tr>\n",
       "      <th>1969</th>\n",
       "      <td>NaN</td>\n",
       "      <td>NaN</td>\n",
       "      <td>NaN</td>\n",
       "      <td>NaN</td>\n",
       "      <td>NaN</td>\n",
       "      <td>85201.0</td>\n",
       "      <td>NaN</td>\n",
       "    </tr>\n",
       "    <tr>\n",
       "      <th>1970</th>\n",
       "      <td>NaN</td>\n",
       "      <td>NaN</td>\n",
       "      <td>NaN</td>\n",
       "      <td>NaN</td>\n",
       "      <td>NaN</td>\n",
       "      <td>85291.0</td>\n",
       "      <td>NaN</td>\n",
       "    </tr>\n",
       "    <tr>\n",
       "      <th>1971</th>\n",
       "      <td>NaN</td>\n",
       "      <td>NaN</td>\n",
       "      <td>NaN</td>\n",
       "      <td>NaN</td>\n",
       "      <td>NaN</td>\n",
       "      <td>77599.0</td>\n",
       "      <td>NaN</td>\n",
       "    </tr>\n",
       "  </tbody>\n",
       "</table>\n",
       "</div>"
      ],
      "text/plain": [
       "name    David    James     John    Linda     Mary  Michael   Robert\n",
       "year                                                               \n",
       "1921      NaN      NaN      NaN      NaN  73985.0      NaN      NaN\n",
       "1922      NaN      NaN      NaN      NaN  72176.0      NaN      NaN\n",
       "1924      NaN      NaN      NaN      NaN  73536.0      NaN      NaN\n",
       "1942      NaN  77174.0      NaN      NaN      NaN      NaN  71848.0\n",
       "1943      NaN  80274.0      NaN      NaN      NaN      NaN  74871.0\n",
       "1944      NaN  76954.0      NaN      NaN      NaN      NaN      NaN\n",
       "1945      NaN  74460.0      NaN      NaN      NaN      NaN      NaN\n",
       "1946      NaN  87439.0  79256.0      NaN      NaN      NaN  84138.0\n",
       "1947      NaN  94764.0  88319.0  99693.0      NaN      NaN  91647.0\n",
       "1948      NaN  88589.0  82833.0  96212.0      NaN      NaN  85475.0\n",
       "1949      NaN  86865.0  81170.0  91019.0      NaN      NaN  83875.0\n",
       "1950      NaN  86229.0  79428.0  80431.0      NaN      NaN  83555.0\n",
       "1951      NaN  87261.0  81572.0  73979.0      NaN  72801.0  86352.0\n",
       "1952      NaN  87063.0  83136.0      NaN      NaN  79043.0  86597.0\n",
       "1953  76120.0  86080.0  80170.0      NaN      NaN  84201.0  86247.0\n",
       "1954  79572.0  86319.0  81195.0      NaN      NaN  88576.0  86341.0\n",
       "1955  86323.0  84193.0  80124.0      NaN      NaN  88372.0  83745.0\n",
       "1956  81603.0  84861.0  80787.0      NaN      NaN  90665.0  83906.0\n",
       "1957  82374.0  84309.0  79007.0      NaN      NaN  92718.0  81739.0\n",
       "1958  82603.0  78739.0  76006.0      NaN      NaN  90564.0  77295.0\n",
       "1959  83919.0  78604.0  76391.0      NaN      NaN  85224.0  74502.0\n",
       "1960  85933.0  76825.0  76083.0      NaN      NaN  84176.0  72351.0\n",
       "1961  84758.0  75935.0  79938.0      NaN      NaN  86917.0  72917.0\n",
       "1962  81327.0  72548.0  78419.0      NaN      NaN  85041.0      NaN\n",
       "1963  78467.0      NaN  78631.0      NaN      NaN  83778.0      NaN\n",
       "1964  75057.0  73037.0  82544.0      NaN      NaN  82642.0      NaN\n",
       "1965      NaN      NaN      NaN      NaN      NaN  81021.0      NaN\n",
       "1966      NaN      NaN      NaN      NaN      NaN  79990.0      NaN\n",
       "1967      NaN      NaN      NaN      NaN      NaN  82440.0      NaN\n",
       "1968      NaN      NaN      NaN      NaN      NaN  81995.0      NaN\n",
       "1969      NaN      NaN      NaN      NaN      NaN  85201.0      NaN\n",
       "1970      NaN      NaN      NaN      NaN      NaN  85291.0      NaN\n",
       "1971      NaN      NaN      NaN      NaN      NaN  77599.0      NaN"
      ]
     },
     "execution_count": 71,
     "metadata": {},
     "output_type": "execute_result"
    }
   ],
   "source": [
    "boys = top100[top100.sex == 'M']\n",
    "girls = top100[top100.sex == 'F']\n",
    "total_births = top100.pivot_table('births', index='year', columns='name', aggfunc=sum)\n",
    "total_births"
   ]
  },
  {
   "cell_type": "code",
   "execution_count": 73,
   "id": "cdf856af",
   "metadata": {},
   "outputs": [],
   "source": [
    "subset = total_births[['John','Linda','Mary','James']]"
   ]
  },
  {
   "cell_type": "code",
   "execution_count": 75,
   "id": "3bbadc20",
   "metadata": {},
   "outputs": [
    {
     "data": {
      "text/plain": [
       "array([<AxesSubplot:xlabel='year'>, <AxesSubplot:xlabel='year'>,\n",
       "       <AxesSubplot:xlabel='year'>, <AxesSubplot:xlabel='year'>],\n",
       "      dtype=object)"
      ]
     },
     "execution_count": 75,
     "metadata": {},
     "output_type": "execute_result"
    },
    {
     "data": {
      "image/png": "[encoded data removed]",
      "text/plain": [
       "<Figure size 864x720 with 4 Axes>"
      ]
     },
     "metadata": {
      "needs_background": "light"
     },
     "output_type": "display_data"
    }
   ],
   "source": [
    "subset.plot(subplots=True, figsize=(12,10),grid=False,title='Number of births per year')"
   ]
  },
  {
   "cell_type": "code",
   "execution_count": 77,
   "id": "66bec535",
   "metadata": {},
   "outputs": [],
   "source": [
    "subsetw = total_births[['Linda']]"
   ]
  },
  {
   "cell_type": "code",
   "execution_count": 78,
   "id": "d32925dc",
   "metadata": {},
   "outputs": [
    {
     "data": {
      "text/plain": [
       "<AxesSubplot:title={'center':'Linda'}, xlabel='year'>"
      ]
     },
     "execution_count": 78,
     "metadata": {},
     "output_type": "execute_result"
    },
    {
     "data": {
      "image/png": "[encoded data removed]",
      "text/plain": [
       "<Figure size 432x288 with 1 Axes>"
      ]
     },
     "metadata": {
      "needs_background": "light"
     },
     "output_type": "display_data"
    }
   ],
   "source": [
    "subsetw.plot(title='Linda')"
   ]
  },
  {
   "cell_type": "code",
   "execution_count": 79,
   "id": "73c9cd27",
   "metadata": {},
   "outputs": [],
   "source": [
    "table = top100.pivot_table('prop', index='year',columns='sex', aggfunc=sum)"
   ]
  },
  {
   "cell_type": "code",
   "execution_count": 80,
   "id": "312ab048",
   "metadata": {},
   "outputs": [
    {
     "data": {
      "text/plain": [
       "<AxesSubplot:title={'center':'Sum of table100.prop by year and sex'}, xlabel='year'>"
      ]
     },
     "execution_count": 80,
     "metadata": {},
     "output_type": "execute_result"
    },
    {
     "data": {
      "image/png": "[encoded data removed]",
      "text/plain": [
       "<Figure size 432x288 with 1 Axes>"
      ]
     },
     "metadata": {
      "needs_background": "light"
     },
     "output_type": "display_data"
    }
   ],
   "source": [
    "table.plot(title='Sum of table100.prop by year and sex', yticks=np.linspace(0,1.2,13), xticks=range(1880,2020,10))"
   ]
  },
  {
   "cell_type": "code",
   "execution_count": 83,
   "id": "afdf7913",
   "metadata": {},
   "outputs": [],
   "source": [
    "df = boys[boys.year==1947]"
   ]
  },
  {
   "cell_type": "code",
   "execution_count": 84,
   "id": "561ee0d2",
   "metadata": {},
   "outputs": [
    {
     "data": {
      "text/html": [
       "<div>\n",
       "<style scoped>\n",
       "    .dataframe tbody tr th:only-of-type {\n",
       "        vertical-align: middle;\n",
       "    }\n",
       "\n",
       "    .dataframe tbody tr th {\n",
       "        vertical-align: top;\n",
       "    }\n",
       "\n",
       "    .dataframe thead th {\n",
       "        text-align: right;\n",
       "    }\n",
       "</style>\n",
       "<table border=\"1\" class=\"dataframe\">\n",
       "  <thead>\n",
       "    <tr style=\"text-align: right;\">\n",
       "      <th></th>\n",
       "      <th>name</th>\n",
       "      <th>sex</th>\n",
       "      <th>births</th>\n",
       "      <th>year</th>\n",
       "      <th>prop</th>\n",
       "    </tr>\n",
       "  </thead>\n",
       "  <tbody>\n",
       "    <tr>\n",
       "      <th>437172</th>\n",
       "      <td>James</td>\n",
       "      <td>M</td>\n",
       "      <td>94764</td>\n",
       "      <td>1947</td>\n",
       "      <td>0.051798</td>\n",
       "    </tr>\n",
       "    <tr>\n",
       "      <th>437173</th>\n",
       "      <td>Robert</td>\n",
       "      <td>M</td>\n",
       "      <td>91647</td>\n",
       "      <td>1947</td>\n",
       "      <td>0.050094</td>\n",
       "    </tr>\n",
       "    <tr>\n",
       "      <th>437174</th>\n",
       "      <td>John</td>\n",
       "      <td>M</td>\n",
       "      <td>88319</td>\n",
       "      <td>1947</td>\n",
       "      <td>0.048275</td>\n",
       "    </tr>\n",
       "  </tbody>\n",
       "</table>\n",
       "</div>"
      ],
      "text/plain": [
       "          name sex  births  year      prop\n",
       "437172   James   M   94764  1947  0.051798\n",
       "437173  Robert   M   91647  1947  0.050094\n",
       "437174    John   M   88319  1947  0.048275"
      ]
     },
     "execution_count": 84,
     "metadata": {},
     "output_type": "execute_result"
    }
   ],
   "source": [
    "df"
   ]
  },
  {
   "cell_type": "code",
   "execution_count": 86,
   "id": "d74f7509",
   "metadata": {},
   "outputs": [],
   "source": [
    "prop_cumsum = df.sort_values(by='prop', ascending=False).prop.cumsum()"
   ]
  },
  {
   "cell_type": "code",
   "execution_count": 87,
   "id": "495eee0a",
   "metadata": {},
   "outputs": [
    {
     "data": {
      "text/plain": [
       "437172    0.051798\n",
       "437173    0.101893\n",
       "437174    0.150168\n",
       "Name: prop, dtype: float64"
      ]
     },
     "execution_count": 87,
     "metadata": {},
     "output_type": "execute_result"
    }
   ],
   "source": [
    "prop_cumsum[:10]"
   ]
  }
 ],
 "metadata": {
  "kernelspec": {
   "display_name": "Python 3 (ipykernel)",
   "language": "python",
   "name": "python3"
  },
  "language_info": {
   "codemirror_mode": {
    "name": "ipython",
    "version": 3
   },
   "file_extension": ".py",
   "mimetype": "text/x-python",
   "name": "python",
   "nbconvert_exporter": "python",
   "pygments_lexer": "ipython3",
   "version": "3.8.8"
  }
 },
 "nbformat": 4,
 "nbformat_minor": 5
}
