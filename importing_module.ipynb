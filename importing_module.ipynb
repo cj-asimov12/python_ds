{
 "cells": [
  {
   "cell_type": "code",
   "execution_count": null,
   "id": "d119679d",
   "metadata": {},
   "outputs": [],
   "source": [
    "\"\"\"\n",
    "2. Open a new python file and import the Module.py file.\n",
    "a. Now call the 4 methods from the Module.py file, i.e., addition(), subtraction(),\n",
    "multiplication(), and division().\n",
    "\"\"\""
   ]
  },
  {
   "cell_type": "code",
   "execution_count": 47,
   "id": "0175abf0",
   "metadata": {},
   "outputs": [],
   "source": [
    "import module1"
   ]
  },
  {
   "cell_type": "code",
   "execution_count": 51,
   "id": "af3f2e57",
   "metadata": {
    "scrolled": true
   },
   "outputs": [
    {
     "data": {
      "text/plain": [
       "4"
      ]
     },
     "execution_count": 51,
     "metadata": {},
     "output_type": "execute_result"
    }
   ],
   "source": [
    "module1.addition(2,2)"
   ]
  },
  {
   "cell_type": "code",
   "execution_count": 52,
   "id": "d09e628b",
   "metadata": {},
   "outputs": [
    {
     "data": {
      "text/plain": [
       "2"
      ]
     },
     "execution_count": 52,
     "metadata": {},
     "output_type": "execute_result"
    }
   ],
   "source": [
    "module1.subtraction(12,10)"
   ]
  },
  {
   "cell_type": "code",
   "execution_count": 53,
   "id": "1392c5ed",
   "metadata": {},
   "outputs": [
    {
     "data": {
      "text/plain": [
       "30"
      ]
     },
     "execution_count": 53,
     "metadata": {},
     "output_type": "execute_result"
    }
   ],
   "source": [
    "module1.multiplication(15,2)"
   ]
  },
  {
   "cell_type": "code",
   "execution_count": 54,
   "id": "f9ed1d3d",
   "metadata": {},
   "outputs": [
    {
     "data": {
      "text/plain": [
       "2.0"
      ]
     },
     "execution_count": 54,
     "metadata": {},
     "output_type": "execute_result"
    }
   ],
   "source": [
    "module1.division(10,5)"
   ]
  },
  {
   "cell_type": "code",
   "execution_count": 55,
   "id": "553f8961",
   "metadata": {},
   "outputs": [
    {
     "data": {
      "text/plain": [
       "'\\n3. From the Module file, import only the addition() and pass the arguments so that it can\\ndisplay the result from the method.\\n'"
      ]
     },
     "execution_count": 55,
     "metadata": {},
     "output_type": "execute_result"
    }
   ],
   "source": [
    "'''\n",
    "3. From the Module file, import only the addition() and pass the arguments so that it can\n",
    "display the result from the method.\n",
    "'''"
   ]
  },
  {
   "cell_type": "code",
   "execution_count": 56,
   "id": "479fd7b1",
   "metadata": {},
   "outputs": [
    {
     "data": {
      "text/plain": [
       "10"
      ]
     },
     "execution_count": 56,
     "metadata": {},
     "output_type": "execute_result"
    }
   ],
   "source": [
    "module1.addition(5,5)"
   ]
  },
  {
   "cell_type": "code",
   "execution_count": null,
   "id": "67dd8c61",
   "metadata": {},
   "outputs": [],
   "source": [
    "\"\"\"\n",
    "4. From the Module file, import only the subtraction() and pass the arguments so that it can\n",
    "display the result from the method.\n",
    "\"\"\""
   ]
  },
  {
   "cell_type": "code",
   "execution_count": 57,
   "id": "622a2d00",
   "metadata": {},
   "outputs": [
    {
     "data": {
      "text/plain": [
       "15"
      ]
     },
     "execution_count": 57,
     "metadata": {},
     "output_type": "execute_result"
    }
   ],
   "source": [
    "module1.subtraction(30,15)"
   ]
  },
  {
   "cell_type": "code",
   "execution_count": null,
   "id": "d973ea23",
   "metadata": {},
   "outputs": [],
   "source": [
    "\"\"\"\n",
    "5. From the Module file, import both the multiplication() and division() and pass the arguments\n",
    "so that it can display the result from the methods.\n",
    "\"\"\""
   ]
  },
  {
   "cell_type": "code",
   "execution_count": 58,
   "id": "d23593ce",
   "metadata": {},
   "outputs": [
    {
     "data": {
      "text/plain": [
       "50"
      ]
     },
     "execution_count": 58,
     "metadata": {},
     "output_type": "execute_result"
    }
   ],
   "source": [
    "module1.multiplication(10,5)"
   ]
  }
 ],
 "metadata": {
  "kernelspec": {
   "display_name": "Python 3 (ipykernel)",
   "language": "python",
   "name": "python3"
  },
  "language_info": {
   "codemirror_mode": {
    "name": "ipython",
    "version": 3
   },
   "file_extension": ".py",
   "mimetype": "text/x-python",
   "name": "python",
   "nbconvert_exporter": "python",
   "pygments_lexer": "ipython3",
   "version": "3.8.8"
  }
 },
 "nbformat": 4,
 "nbformat_minor": 5
}
